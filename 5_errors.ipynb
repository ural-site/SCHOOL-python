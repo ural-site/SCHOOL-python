{
 "cells": [
  {
   "attachments": {},
   "cell_type": "markdown",
   "metadata": {},
   "source": [
    "# Ошибки и исключения"
   ]
  },
  {
   "attachments": {},
   "cell_type": "markdown",
   "metadata": {},
   "source": [
    "### Обработка исключений"
   ]
  },
  {
   "cell_type": "code",
   "execution_count": null,
   "metadata": {},
   "outputs": [],
   "source": [
    "while True:\n",
    "    try:\n",
    "        x = int(input(\"Please enter a number: \"))\n",
    "        break\n",
    "    except ValueError:\n",
    "        print(\"Oops!  That was no valid number.  Try again...\")"
   ]
  },
  {
   "attachments": {},
   "cell_type": "markdown",
   "metadata": {},
   "source": [
    "Заявление try работает следующим образом.\n",
    "\n",
    "Во-первых, выполняется предложение try (операторы между ключевыми словами try и except)\n",
    "\n",
    "Если исключения не возникает, предложение except пропускается и выполнение оператора try завершается.\n",
    "\n",
    "Если во время выполнения предложения возникает исключение try, остальная часть предложения пропускается. Затем, если его тип соответствует исключению, названному в честь except ключевого слова, выполняется предложение except, а затем выполнение продолжается после блока try/except.\n",
    "\n",
    "Если возникает исключение, которое не соответствует исключению, указанному в предложении except, оно передается внешним try операторам; если обработчик не найден, это необработанное исключение, и выполнение останавливается с сообщением, как показано выше.\n",
    "\n",
    "В try операторе может быть более одного предложения except для указания обработчиков различных исключений. Выполняется не более одного обработчика. Обработчики обрабатывают только те исключения, которые возникают в соответствующем предложении try, а не в других обработчиках того же оператора try. Предложение exclude может называть несколько исключений в виде кортежа в скобках, например:"
   ]
  },
  {
   "cell_type": "code",
   "execution_count": null,
   "metadata": {},
   "outputs": [],
   "source": [
    "except (RuntimeError, TypeError, NameError):\n",
    "    pass"
   ]
  },
  {
   "attachments": {},
   "cell_type": "markdown",
   "metadata": {},
   "source": [
    "Класс в except предложении совместим с исключением, если это тот же класс или его базовый класс (но не наоборот — предложение исключения, перечисляющее производный класс, несовместимо с базовым классом). Например, следующий код напечатает B, C, D в указанном порядке:"
   ]
  },
  {
   "cell_type": "code",
   "execution_count": null,
   "metadata": {},
   "outputs": [],
   "source": [
    "class B(Exception):\n",
    "    pass\n",
    "\n",
    "class C(B):\n",
    "    pass\n",
    "\n",
    "class D(C):\n",
    "    pass\n",
    "\n",
    "for cls in [B, C, D]:\n",
    "    try:\n",
    "        raise cls()\n",
    "    except D:\n",
    "        print(\"D\")\n",
    "    except C:\n",
    "        print(\"C\")\n",
    "    except B:\n",
    "        print(\"B\")"
   ]
  },
  {
   "attachments": {},
   "cell_type": "markdown",
   "metadata": {},
   "source": [
    "Оператор try…except имеет необязательное предложение else, которое, если оно присутствует, должно следовать за всеми предложениями кроме. Это полезно для кода, который должен быть выполнен, если предложение try не вызывает исключение. Например:"
   ]
  },
  {
   "cell_type": "code",
   "execution_count": null,
   "metadata": {},
   "outputs": [],
   "source": [
    "for arg in sys.argv[1:]:\n",
    "    try:\n",
    "        f = open(arg, 'r')\n",
    "    except OSError:\n",
    "        print('cannot open', arg)\n",
    "    else:\n",
    "        print(arg, 'has', len(f.readlines()), 'lines')\n",
    "        f.close()"
   ]
  },
  {
   "attachments": {},
   "cell_type": "markdown",
   "metadata": {},
   "source": [
    "Использование этого else предложения лучше, чем добавление дополнительного кода в try предложение, потому что оно позволяет избежать случайного перехвата исключения, которое не было вызвано кодом, защищенным оператором try…except.\n",
    "\n",
    "Обработчики исключений обрабатывают не только исключения, возникающие непосредственно в предложении try , но и те, которые возникают внутри функций, вызываемых (даже косвенно) в предложении try . Например:"
   ]
  },
  {
   "cell_type": "code",
   "execution_count": null,
   "metadata": {},
   "outputs": [],
   "source": [
    "def this_fails():\n",
    "    x = 1/0\n",
    "\n",
    "try:\n",
    "    this_fails()\n",
    "except ZeroDivisionError as err:\n",
    "    print('Handling run-time error:', err)"
   ]
  },
  {
   "attachments": {},
   "cell_type": "markdown",
   "metadata": {},
   "source": [
    "### Вызов исключений"
   ]
  },
  {
   "attachments": {},
   "cell_type": "markdown",
   "metadata": {},
   "source": [
    "Оператор raise позволяет программисту принудительно вызвать указанное исключение. Например:"
   ]
  },
  {
   "cell_type": "code",
   "execution_count": null,
   "metadata": {},
   "outputs": [],
   "source": [
    "raise NameError('HiThere')"
   ]
  },
  {
   "attachments": {},
   "cell_type": "markdown",
   "metadata": {},
   "source": [
    "### Определение действий по очистке"
   ]
  },
  {
   "attachments": {},
   "cell_type": "markdown",
   "metadata": {},
   "source": [
    "В try операторе есть еще один необязательный пункт, предназначенный для определения действий по очистке, которые должны выполняться при любых обстоятельствах. Например:"
   ]
  },
  {
   "cell_type": "code",
   "execution_count": null,
   "metadata": {},
   "outputs": [],
   "source": [
    "try:\n",
    "    raise KeyboardInterrupt\n",
    "finally:\n",
    "    print('Goodbye, world!')"
   ]
  },
  {
   "attachments": {},
   "cell_type": "markdown",
   "metadata": {},
   "source": [
    "Если finally предложение присутствует, оно finally будет выполняться как последняя задача перед try завершением оператора. Предложение finally выполняется независимо от того, try создает ли оператор исключение. В следующих пунктах обсуждаются более сложные случаи, когда возникает исключение:\n",
    "\n",
    "- Если во время выполнения предложения возникает исключение try, оно может быть обработано предложением except. Если исключение не обрабатывается предложением except, исключение повторно возникает после finally выполнения предложения.\n",
    "\n",
    "- Исключение могло возникнуть во время выполнения предложения except or else. Опять же, исключение повторно вызывается после того, как finally предложение было выполнено.\n",
    "\n",
    "- Если в finally предложении выполняется оператор break, continueили return, исключения не вызываются повторно.\n",
    "\n",
    "- Если try оператор достигает оператора break, continue или return, finally предложение будет выполняться непосредственно перед выполнением оператора break, continue или return\n",
    "\n",
    "- Если finally предложение включает оператор return, возвращаемое значение будет значением из finally оператора предложения return, а не значением из try оператора return предложения."
   ]
  },
  {
   "cell_type": "code",
   "execution_count": null,
   "metadata": {},
   "outputs": [],
   "source": [
    "def bool_return():\n",
    "    try:\n",
    "        return True\n",
    "    finally:\n",
    "        return False"
   ]
  },
  {
   "cell_type": "code",
   "execution_count": null,
   "metadata": {},
   "outputs": [],
   "source": [
    "def divide(x, y):\n",
    "    try:\n",
    "        result = x / y\n",
    "    except ZeroDivisionError:\n",
    "        print(\"division by zero!\")\n",
    "    else:\n",
    "        print(\"result is\", result)\n",
    "    finally:\n",
    "        print(\"executing finally clause\")"
   ]
  },
  {
   "attachments": {},
   "cell_type": "markdown",
   "metadata": {},
   "source": [
    "### Предопределенные действия по очистке"
   ]
  },
  {
   "attachments": {},
   "cell_type": "markdown",
   "metadata": {},
   "source": [
    "Некоторые объекты определяют стандартные действия по очистке, которые должны выполняться, когда объект больше не нужен, независимо от того, была ли операция с использованием объекта успешной или неудачной. Посмотрите на следующий пример, который пытается открыть файл и вывести его содержимое на экран."
   ]
  },
  {
   "cell_type": "code",
   "execution_count": null,
   "metadata": {},
   "outputs": [],
   "source": [
    "for line in open(\"myfile.txt\"):\n",
    "    print(line, end=\"\")"
   ]
  },
  {
   "attachments": {},
   "cell_type": "markdown",
   "metadata": {},
   "source": [
    "Проблема с этим кодом заключается в том, что он оставляет файл открытым на неопределенное время после завершения выполнения этой части кода. Это не проблема в простых сценариях, но может быть проблемой для более крупных приложений. Оператор withпозволяет использовать такие объекты, как файлы, таким образом, чтобы гарантировать их быструю и правильную очистку."
   ]
  },
  {
   "cell_type": "code",
   "execution_count": null,
   "metadata": {},
   "outputs": [],
   "source": [
    "with open(\"myfile.txt\") as f:\n",
    "    for line in f:\n",
    "        print(line, end=\"\")"
   ]
  },
  {
   "attachments": {},
   "cell_type": "markdown",
   "metadata": {},
   "source": [
    "После выполнения оператора файл f всегда закрывается, даже если при обработке строк возникла проблема. Объекты, которые, как и файлы, предоставляют предопределенные действия по очистке, будут указывать это в своей документации."
   ]
  },
  {
   "attachments": {},
   "cell_type": "markdown",
   "metadata": {},
   "source": [
    "https://docs.python.org/3/tutorial/errors.html\n"
   ]
  }
 ],
 "metadata": {
  "kernelspec": {
   "display_name": ".venv",
   "language": "python",
   "name": "python3"
  },
  "language_info": {
   "codemirror_mode": {
    "name": "ipython",
    "version": 3
   },
   "file_extension": ".py",
   "mimetype": "text/x-python",
   "name": "python",
   "nbconvert_exporter": "python",
   "pygments_lexer": "ipython3",
   "version": "3.10.6"
  },
  "orig_nbformat": 4
 },
 "nbformat": 4,
 "nbformat_minor": 2
}
