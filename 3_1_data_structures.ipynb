{
    "cells": [
        {
            "cell_type": "markdown",
            "source": [
                "# Изучение Python. Основы. Структуры данных."
            ],
            "metadata": {}
        },
        {
            "cell_type": "markdown",
            "source": [
                "\n",
                "Список — [], Кортеж — (), Словарь — {}\n",
                "\n",
                "Кортеж с ключами, множества"
            ],
            "metadata": {}
        },
        {
            "cell_type": "markdown",
            "source": [
                "## Список (List)"
            ],
            "metadata": {}
        },
        {
            "cell_type": "markdown",
            "source": [
                "Списки: содержат списки значений. Списки — изменяемые. Гибкий инструмент, представляющий из себя упорядоченную коллекцию элементов, который может включать в себя какие угодно объекты с каким угодно уровнем вложенности."
            ],
            "metadata": {}
        },
        {
            "cell_type": "code",
            "execution_count": null,
            "source": [
                "my_list1 = [1, 2, 3, 4, 5]\n",
                "my_list2 = list()\n",
                "\n",
                "print(my_list1, my_list2)\n",
                "print(type(my_list1), type(my_list2))\n"
            ],
            "outputs": [],
            "metadata": {}
        },
        {
            "cell_type": "markdown",
            "source": [],
            "metadata": {}
        },
        {
            "cell_type": "markdown",
            "source": [],
            "metadata": {}
        },
        {
            "cell_type": "markdown",
            "source": [
                "## Кортеж (Tuple)"
            ],
            "metadata": {}
        },
        {
            "cell_type": "markdown",
            "source": [
                "Кортеж — не изменяемые. Отличная альтернатива списку для тех ситуаций, когда в дальнейшем не требуется менять значения внутри этой структуры данных."
            ],
            "metadata": {}
        },
        {
            "cell_type": "code",
            "execution_count": null,
            "source": [
                "my_tuple1 = ('RU', 'EN', 'UA')\n",
                "my_tuple2 = tuple()\n",
                "\n",
                "print(my_tuple1, my_tuple2)\n",
                "print(type(my_tuple1), type(my_tuple2))"
            ],
            "outputs": [],
            "metadata": {}
        },
        {
            "cell_type": "markdown",
            "source": [],
            "metadata": {}
        },
        {
            "cell_type": "markdown",
            "source": [],
            "metadata": {}
        },
        {
            "cell_type": "markdown",
            "source": [
                "## Словарь (Dict)"
            ],
            "metadata": {}
        },
        {
            "cell_type": "markdown",
            "source": [
                "Словари — это пары из ключа и значения. Словари также являются изменяемыми. Словари — идеальная структура для хранения пар ключ-значение."
            ],
            "metadata": {}
        },
        {
            "cell_type": "code",
            "execution_count": null,
            "source": [
                "my_dict1 = {'id1':'Test1', 1:2, 'test':123}\n",
                "my_dict2 = dict()\n",
                "my_dict3 = dict({})\n",
                "\n",
                "print(my_dict1, my_dict2, my_dict3)\n",
                "print(type(my_dict1), type(my_dict2))"
            ],
            "outputs": [],
            "metadata": {}
        },
        {
            "cell_type": "markdown",
            "source": [],
            "metadata": {}
        },
        {
            "cell_type": "markdown",
            "source": [
                "## Кортеж с ключами"
            ],
            "metadata": {}
        },
        {
            "cell_type": "markdown",
            "source": [],
            "metadata": {}
        },
        {
            "cell_type": "markdown",
            "source": [],
            "metadata": {}
        },
        {
            "cell_type": "markdown",
            "source": [
                "## Множества (set)"
            ],
            "metadata": {}
        },
        {
            "cell_type": "markdown",
            "source": [
                "Множества — это контейнеры для других объектов. Множества создаются встроенной функцией set и поддерживают типичные математические операции над множествами.\n",
                "Элементами множества могут стать любые неизменяемые объекты.\n",
                "После того, как мы проделали определённые операции над множествами — их можно разместить обратно в список."
            ],
            "metadata": {}
        },
        {
            "cell_type": "markdown",
            "source": [],
            "metadata": {}
        },
        {
            "cell_type": "markdown",
            "source": [],
            "metadata": {}
        },
        {
            "cell_type": "markdown",
            "source": [],
            "metadata": {}
        },
        {
            "cell_type": "markdown",
            "source": [],
            "metadata": {}
        },
        {
            "cell_type": "markdown",
            "source": [],
            "metadata": {}
        }
    ],
    "metadata": {
        "orig_nbformat": 4,
        "language_info": {
            "name": "python",
            "version": "3.9.7",
            "mimetype": "text/x-python",
            "codemirror_mode": {
                "name": "ipython",
                "version": 3
            },
            "pygments_lexer": "ipython3",
            "nbconvert_exporter": "python",
            "file_extension": ".py"
        },
        "kernelspec": {
            "name": "python3",
            "display_name": "Python 3.9.7 64-bit ('venv': venv)"
        },
        "interpreter": {
            "hash": "f55bb882a6bec8e12e28c7b04ad609be803a922fe6e405d345af5d65766d64b4"
        }
    },
    "nbformat": 4,
    "nbformat_minor": 2
}