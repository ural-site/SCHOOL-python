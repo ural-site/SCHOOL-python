{
 "cells": [
  {
   "attachments": {},
   "cell_type": "markdown",
   "metadata": {},
   "source": [
    "### Списки\n"
   ]
  },
  {
   "attachments": {},
   "cell_type": "markdown",
   "metadata": {},
   "source": [
    "Перечень возможных примеров работы со списками"
   ]
  },
  {
   "cell_type": "code",
   "execution_count": null,
   "metadata": {},
   "outputs": [],
   "source": [
    "# Создание списков\n",
    "lst = list()\n",
    "lst = []"
   ]
  },
  {
   "attachments": {},
   "cell_type": "markdown",
   "metadata": {},
   "source": [
    "#### Срезы"
   ]
  },
  {
   "cell_type": "code",
   "execution_count": null,
   "metadata": {},
   "outputs": [],
   "source": [
    "lst = [0, 1, 2, 3, 4, 5, 6, 7, 8, 9]\n",
    "\n",
    "print(lst[0:2])\n",
    "print(lst[:2])\n",
    "\n",
    "print(lst[5:10]) # 10 - не включительно!\n",
    "print(lst[5:])\n",
    "\n",
    "print(lst[:]) # Весь список (копия списка)\n",
    "print(lst[::3]) # С шагом 3 \n",
    "\n",
    "print(lst[::-1]) # В обратную сторону с шагом 1\n",
    "print(lst[::-2]) # В обратную сторону с шагом 2\n",
    "\n",
    "lst = [0, 1, 2, 3, 4, 5, 6, 7, 8, 9]\n",
    "# Добавить элемент по индексу 1\n",
    "lst[1:1] = [5]\n",
    "print(lst)\n",
    "\n",
    "# Заменить с 5 по 8 элемент новым списком\n",
    "lst = [0, 1, 2, 3, 4, 5, 6, 7, 8, 9]\n",
    "print(lst)\n",
    "lst[5:9] = [1, 1, 1, 1]\n",
    "print(lst)\n"
   ]
  },
  {
   "attachments": {},
   "cell_type": "markdown",
   "metadata": {},
   "source": [
    "#### Методы списков\n"
   ]
  },
  {
   "cell_type": "code",
   "execution_count": null,
   "metadata": {},
   "outputs": [],
   "source": [
    "# append\n",
    "# Добавить в конец списка\n",
    "lst = [1, 2, 3]\n",
    "lst.append(1)\n",
    "print(lst)\n",
    "\n",
    "# clear\n",
    "# Очистить список\n",
    "lst = [1, 2, 3]\n",
    "lst.clear()\n",
    "print(lst)\n",
    "\n",
    "# copy\n",
    "# Копирование списка\n",
    "lst = [1, 2, 3]\n",
    "lst_copy = lst.copy()\n",
    "print(id(lst_copy), id(lst))\n",
    "\n",
    "lst = [1, 2, 3]\n",
    "lst_copy = [*lst]\n",
    "print(id(lst_copy), id(lst))\n",
    "\n",
    "# count\n",
    "# Возвращает количество раз, когда указанный элемент появляется в списке.\n",
    "lst = [1, 2, 3, 2, 2, 3, 4, 5]\n",
    "c = lst.count(2)\n",
    "print(c)\n",
    "\n",
    "# extend\n",
    "# Добавляет новые элементы в конец списка, но, в отличие от append(), принимает в качестве параметров итерируемые объекты: списки, кортежи и строки.\n",
    "lst: list[int | str] = [1, 2, 3]\n",
    "lst.extend([\"q\", \"w\", \"e\", \"r\", \"t\", \"y\"])\n",
    "lst.extend(\"zxcvbnm\")\n",
    "lst.extend((\"tuple1\", \"tuple2\", \"tuple3\"))\n",
    "print(lst)\n",
    "\n",
    "# index\n",
    "# Возвращает индекс указанного элемента в списке.\n",
    "# Примечание: Команда возвращает только первое вхождение соответствующего элемента.\n",
    "lst = [1, 2, 3, 2]\n",
    "start = 0\n",
    "end = len(lst)\n",
    "index_val = lst.index(2, start, end)\n",
    "print(index_val)\n",
    "\n",
    "\n",
    "# insert\n",
    "# Добавление элемент в список по номеру индекса. Со сдвигом элементов врпаво\n",
    "lst = [1, 2, 3]\n",
    "lst.insert(0, 9)\n",
    "lst.insert(2, 8)\n",
    "\n",
    "lst[1:1] = [5]\n",
    "\n",
    "print(lst)\n",
    "\n",
    "# pop\n",
    "# Возвращает значение элемента с индексом i, удаляя его из последовательности. Необязательный индекс i по умолчанию равен -1\n",
    "lst = [1, 2, 3]\n",
    "el = lst.pop(1)\n",
    "print(el, lst)\n",
    "\n",
    "# remove\n",
    "# Удаляет первый совпадающий элемент из списка. Метод не возвращает значений.\n",
    "# Как использовать: Если в списке есть повторяющиеся элементы, первый совпадающий будет удален.\n",
    "# Если элемента нет, будет брошена ошибка с сообщением о том, что элемент не найден.\n",
    "lst = [1, 2, 3]\n",
    "lst.remove(3)\n",
    "print(lst)\n",
    "\n",
    "# reverse\n",
    "# Это очень быстрая функция, которая меняет местами элементы списка, таким образом, исходный список изменяется.\n",
    "# Иногда это не нужно и требуется создать новый список в обратном порядке\n",
    "lst = [1, 2, 3]\n",
    "lst.reverse()\n",
    "print(lst)\n",
    "\n",
    "# sort\n",
    "# Сортирует элементы списка в порядке возрастания\n",
    "lst = [3, 2, 1]\n",
    "lst.sort()\n",
    "print(lst)\n",
    "lst.sort(reverse=True)\n",
    "print(lst)\n",
    "\n",
    "# Пример сортировки по возрасту\n",
    "def custom_key(people):\n",
    "    return people[1]\n",
    "\n",
    "persons = [[\"Alice\", 26, \"F\"], [\"Trudy\", 25, \"M\"], [\"Bob\", 25, \"M\"], [\"Alexa\", 22, \"F\"]]\n",
    "persons.sort(key=custom_key)\n",
    "print(persons)\n",
    "\n",
    "# В Python есть встроенная функция sorted(), которая используется для создания отсортированного списка из итерируемого объекта."
   ]
  },
  {
   "attachments": {},
   "cell_type": "markdown",
   "metadata": {},
   "source": [
    "### Итерация списков"
   ]
  },
  {
   "attachments": {},
   "cell_type": "markdown",
   "metadata": {},
   "source": [
    "##### Циклом while"
   ]
  },
  {
   "cell_type": "code",
   "execution_count": null,
   "metadata": {},
   "outputs": [],
   "source": [
    "lst = [1, 2, 3, 4, 5, 6, 7, 8, 9, 0]\n",
    "\n",
    "i = 0\n",
    "while i < len(lst):\n",
    "    print(f\"Индекс: {i}, Значение: {lst[i]}\")\n",
    "    i += 1"
   ]
  },
  {
   "attachments": {},
   "cell_type": "markdown",
   "metadata": {},
   "source": [
    "##### Циклом for"
   ]
  },
  {
   "cell_type": "code",
   "execution_count": null,
   "metadata": {},
   "outputs": [],
   "source": [
    "lst = [1, 2, 3]\n",
    "\n",
    "for i in lst:\n",
    "    print(f\"Индекс: н/д, Значение: {i}\")\n",
    "    \n",
    "for i in range(len(lst)):\n",
    "    print(f\"Индекс: {i}, Значение: {lst[i]}\")\n",
    "\n",
    "for i, v in enumerate(lst):\n",
    "    print(f\"Индекс: {i}, Значение: {v}\")\n",
    "\n",
    "print('''\\n print(v) for v in lst''')\n",
    "lst = [1, 2, 3]\n",
    "[print(v) for v in lst]\n",
    "\n",
    "print('''\\n [f(x) if condition else g(x) for x in sequence]''')\n",
    "lst = [1, 2, 3, None, 4]\n",
    "[print(x) if x is not None else print('Нет') for x in lst]\n",
    "lst_new = [x if x is not None else 'Нет' for x in lst]\n",
    "print(lst_new)\n",
    "\n",
    "print('''\\n [f(x) for x in sequence if condition]''')\n",
    "lst = [1, 2, 3]\n",
    "[print(v) for v in lst if v%2]\n",
    "\n",
    "print('''\\n [f(x) if condition else g(x) for x in sequence if condition]''')\n",
    "lst = [-1, -2, 1, 2, 3, 4]\n",
    "lst_new = [f\"{x} - четное\" if x%2 == 0 else f\"{x} - нечетное\" for x in lst if x > 0]\n",
    "print(lst_new)\n"
   ]
  },
  {
   "attachments": {},
   "cell_type": "markdown",
   "metadata": {},
   "source": [
    "##### For с Zip"
   ]
  },
  {
   "cell_type": "code",
   "execution_count": null,
   "metadata": {},
   "outputs": [],
   "source": [
    "age = [21, 28, 31]\n",
    "gender = ['Male', 'Female', 'Others']\n",
    "city = ['Pune', 'Mumbai']\n",
    "\n",
    "for (x, y, z) in zip(age, gender, city):\n",
    "    print (x, y, z)\n"
   ]
  },
  {
   "attachments": {},
   "cell_type": "markdown",
   "metadata": {},
   "source": [
    "#### lambda"
   ]
  },
  {
   "cell_type": "code",
   "execution_count": null,
   "metadata": {},
   "outputs": [],
   "source": [
    "lst1 = [1, 2, 3, 4, 5]\n",
    "lst2 = []\n",
    "\n",
    "# Lambda function to square number\n",
    "temp = lambda i: i**2\n",
    "\n",
    "for i in lst1:\n",
    "    # Add to lst2\n",
    "    lst2.append(temp(i))\n",
    "\n",
    "print(lst2)"
   ]
  },
  {
   "attachments": {},
   "cell_type": "markdown",
   "metadata": {},
   "source": [
    "#### map"
   ]
  },
  {
   "cell_type": "code",
   "execution_count": null,
   "metadata": {},
   "outputs": [],
   "source": [
    "# Define a function to print each element\n",
    "def print_element(element):\n",
    "    print(element)\n",
    "\n",
    "\n",
    "# Create a list\n",
    "my_list = [1, 3, 5, 7, 9]\n",
    "\n",
    "# Use map() to apply the print_element() function to each element of the list\n",
    "result = map(print_element, my_list)\n",
    "\n",
    "# Since map() returns an iterator, we need to consume\n",
    "# the iterator in order to see the output\n",
    "for _ in result:\n",
    "    pass"
   ]
  },
  {
   "cell_type": "code",
   "execution_count": null,
   "metadata": {},
   "outputs": [],
   "source": [
    "lst1 = [1, 2, 3, 4, 5]\n",
    "\n",
    "lst1 = list(map(lambda v: v ** 2, lst1))\n",
    "\n",
    "print(lst1)"
   ]
  },
  {
   "attachments": {},
   "cell_type": "markdown",
   "metadata": {},
   "source": [
    "#### Преобразование списка в итератор"
   ]
  },
  {
   "cell_type": "code",
   "execution_count": null,
   "metadata": {},
   "outputs": [],
   "source": [
    "lst = [1, 3, 5, 7, 9]\n",
    "\n",
    "iterator = iter(lst)\n",
    "\n",
    "try:\n",
    "\twhile True:\n",
    "\t\telement = next(iterator)\n",
    "\t\tprint(element)\n",
    "except StopIteration:\n",
    "\tpass\n"
   ]
  }
 ],
 "metadata": {
  "kernelspec": {
   "display_name": ".venv",
   "language": "python",
   "name": "python3"
  },
  "language_info": {
   "codemirror_mode": {
    "name": "ipython",
    "version": 3
   },
   "file_extension": ".py",
   "mimetype": "text/x-python",
   "name": "python",
   "nbconvert_exporter": "python",
   "pygments_lexer": "ipython3",
   "version": "3.10.6"
  },
  "orig_nbformat": 4
 },
 "nbformat": 4,
 "nbformat_minor": 2
}
