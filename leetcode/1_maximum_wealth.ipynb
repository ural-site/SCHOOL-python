{
 "cells": [
  {
   "attachments": {},
   "cell_type": "markdown",
   "metadata": {},
   "source": [
    "Вам дана m x n целочисленная сетка accounts, где accounts[i][j] сумма денег у клиента в банке. Верните богатство, которое есть у самого богатого клиента.\n",
    "\n",
    "Богатство клиента — это сумма денег, которую он имеет на всех своих банковских счетах. Самый богатый клиент — это клиент, который имеет максимальное богатство.\n",
    "\n",
    "Пример 1:\n",
    "\n",
    "Ввод: account = [[1,2,3],[3,2,1]]\n",
    "\n",
    "Вывод: 6\n",
    "\n",
    "Объяснение :\n",
    "\n",
    "1st customer has wealth = 1 + 2 + 3 = 6\n",
    "\n",
    "2nd customer has wealth = 3 + 2 + 1 = 6\n",
    "\n",
    "Оба клиента считаются самыми богатыми с состоянием 6 каждый, поэтому верните 6.\n",
    "\n",
    "Пример 2:\n",
    "\n",
    "Ввод: account = [[1,5],[7,3],[3,5]]\n",
    "\n",
    "Вывод: 10\n",
    "\n",
    "Объяснение:\n",
    "\n",
    "1-й клиент имеет богатство = 6\n",
    "\n",
    "2-й клиент имеет богатство = 10\n",
    "\n",
    "3-й клиент имеет богатство = 8\n",
    "\n",
    "Второй покупатель — самый богатый, его состояние равно 10.\n",
    "\n",
    "Пример 3:\n",
    "\n",
    "Ввод: счета = [[2,8,7],[7,1,3],[1,9,5]]\n",
    "\n",
    "Вывод: 17\n",
    "\n",
    "Ограничения:\n",
    "\n",
    "m == accounts.length\n",
    "\n",
    "n == accounts[i].length\n",
    "\n",
    "1 <= m, n <= 50\n",
    "\n",
    "1 <= accounts[i][j] <= 100\n"
   ]
  },
  {
   "cell_type": "code",
   "execution_count": 1,
   "metadata": {},
   "outputs": [
    {
     "name": "stdout",
     "output_type": "stream",
     "text": [
      "6\n",
      "10\n",
      "17\n"
     ]
    }
   ],
   "source": [
    "from typing import List\n",
    "\n",
    "\n",
    "class Solution:\n",
    "    def maximum_wealth(self, accounts: List[List[int]]) -> int:\n",
    "        max_wealth = 0\n",
    "        for account in accounts:\n",
    "            sum_wealth = sum(account)\n",
    "            if sum_wealth > max_wealth:\n",
    "                max_wealth = sum_wealth\n",
    "        return max_wealth\n",
    "\n",
    "\n",
    "accounts1 = [[1, 2, 3], [3, 2, 1]]\n",
    "accounts2 = [[1, 5], [7, 3], [3, 5]]\n",
    "accounts3 = [[2, 8, 7], [7, 1, 3], [1, 9, 5]]\n",
    "\n",
    "solution = Solution()\n",
    "\n",
    "print(solution.maximum_wealth(accounts1))\n",
    "print(solution.maximum_wealth(accounts2))\n",
    "print(solution.maximum_wealth(accounts3))"
   ]
  },
  {
   "attachments": {},
   "cell_type": "markdown",
   "metadata": {},
   "source": [
    "### Чужие решения"
   ]
  },
  {
   "attachments": {},
   "cell_type": "markdown",
   "metadata": {},
   "source": [
    "Однострочное решение"
   ]
  },
  {
   "cell_type": "code",
   "execution_count": 9,
   "metadata": {},
   "outputs": [
    {
     "data": {
      "text/plain": [
       "17"
      ]
     },
     "execution_count": 9,
     "metadata": {},
     "output_type": "execute_result"
    }
   ],
   "source": [
    "class Solution:\n",
    "    def maximumWealth(self, accounts: List[List[int]]) -> int:\n",
    "        # return max([sum(account) for account in accounts])\n",
    "        # Это хорошо, но вам не нужны квадратные скобки вокруг итератора, это может быть просто генератор (макс работает на итераторах)\n",
    "        return max(sum(account) for account in accounts)\n",
    "    \n",
    "Solution().maximumWealth([[2, 8, 7], [7, 1, 3], [1, 9, 5]])"
   ]
  },
  {
   "attachments": {},
   "cell_type": "markdown",
   "metadata": {},
   "source": [
    "Подход:\n",
    "\n",
    "Для каждого человека добавьте его богатство из всех банков, т.е. для каждой строки суммируйте все значения столбца и сохраните в totalWealth.\n",
    "Если totalWealth больше, чем maxWealth, обновите maxWealth."
   ]
  },
  {
   "cell_type": "code",
   "execution_count": null,
   "metadata": {},
   "outputs": [],
   "source": [
    "def maximumWealth(self, accounts: List[List[int]]) -> int:\n",
    "\tmaxWealth = 0\n",
    "\tfor i in range(len(accounts)):\n",
    "\t\ttotalWealth = sum(accounts[i])\n",
    "\t\tmaxWealth = max(maxWealth, totalWealth)\n",
    "\treturn maxWealth"
   ]
  }
 ],
 "metadata": {
  "kernelspec": {
   "display_name": ".venv",
   "language": "python",
   "name": "python3"
  },
  "language_info": {
   "codemirror_mode": {
    "name": "ipython",
    "version": 3
   },
   "file_extension": ".py",
   "mimetype": "text/x-python",
   "name": "python",
   "nbconvert_exporter": "python",
   "pygments_lexer": "ipython3",
   "version": "3.10.6"
  },
  "orig_nbformat": 4
 },
 "nbformat": 4,
 "nbformat_minor": 2
}
