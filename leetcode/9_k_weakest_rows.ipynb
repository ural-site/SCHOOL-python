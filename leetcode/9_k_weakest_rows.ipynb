{
 "cells": [
  {
   "attachments": {},
   "cell_type": "markdown",
   "metadata": {},
   "source": [
    "### 1337. The K Weakest Rows in a Matrix\n",
    "1337. K самых слабых строк в матрице\n"
   ]
  },
  {
   "attachments": {},
   "cell_type": "markdown",
   "metadata": {},
   "source": [
    "Вам дана m x n бинарная матрица mats 1(представляющих солдат) и 0 (представляющих гражданских лиц). Солдаты стоят перед мирными жителями. То есть все 1 будут отображаться слева от всех 0 в каждой строке.\n",
    "\n",
    "Строка i слабее строки j если верно одно из следующих условий:\n",
    "\n",
    "Количество солдат в ряду i меньше, чем количество солдат в ряду j.\n",
    "Оба ряда имеют одинаковое количество солдат и i < j.\n",
    "Возвращает k индексов самых слабых строк в матрице в порядке от самого слабого к самому сильному\n",
    "\n",
    "Example 1:\n",
    "\n",
    "Input: mat = \n",
    "[[1,1,0,0,0],\n",
    " [1,1,1,1,0],\n",
    " [1,0,0,0,0],\n",
    " [1,1,0,0,0],\n",
    " [1,1,1,1,1]], \n",
    "k = 3\n",
    "Output: [2,0,3]\n",
    "Explanation: \n",
    "The number of soldiers in each row is: \n",
    "- Row 0: 2 \n",
    "- Row 1: 4 \n",
    "- Row 2: 1 \n",
    "- Row 3: 2 \n",
    "- Row 4: 5 \n",
    "The rows ordered from weakest to strongest are [2,0,3,1,4].\n",
    "\n",
    "Example 2:\n",
    "\n",
    "Input: mat = \n",
    "[[1,0,0,0],\n",
    " [1,1,1,1],\n",
    " [1,0,0,0],\n",
    " [1,0,0,0]], \n",
    "k = 2\n",
    "Output: [0,2]\n",
    "Explanation: \n",
    "The number of soldiers in each row is: \n",
    "- Row 0: 1 \n",
    "- Row 1: 4 \n",
    "- Row 2: 1 \n",
    "- Row 3: 1 \n",
    "The rows ordered from weakest to strongest are [0,2,3,1]."
   ]
  },
  {
   "cell_type": "code",
   "execution_count": 5,
   "metadata": {},
   "outputs": [
    {
     "data": {
      "text/plain": [
       "[2, 0, 3]"
      ]
     },
     "execution_count": 5,
     "metadata": {},
     "output_type": "execute_result"
    }
   ],
   "source": [
    "from typing import List\n",
    "\n",
    "\n",
    "class Solution:\n",
    "    def k_weakest_rows(self, mat: List[List[int]], k: int) -> List[int]:\n",
    "        # mat_ceil_sum = {  sum(m) for m in mat}\n",
    "        # row_sum = {key: value for key, value in zip(keys, values)}\n",
    "        # row_s = {key: val for val in zip(mat)}\n",
    "        \n",
    "        # for m in mat:\n",
    "        row_s = {}\n",
    "        for x in range(len(mat)):\n",
    "            row_s[x] = sum(mat[x]) \n",
    "        \n",
    "        sorted_dict = {}\n",
    "        sorted_keys = sorted(row_s, key=row_s.get)\n",
    "\n",
    "        for w in sorted_keys:\n",
    "            sorted_dict[w] = row_s[w]\n",
    "        \n",
    "        l = []\n",
    "        count = 0\n",
    "        for i in sorted_dict.keys():\n",
    "            l.append(i) if count < k else None\n",
    "            count += 1\n",
    "            \n",
    "        \n",
    "        return l\n",
    "\n",
    "mat =  [[1,1,0,0,0],\n",
    "        [1,1,1,1,0],\n",
    "        [1,0,0,0,0],\n",
    "        [1,1,0,0,0],\n",
    "        [1,1,1,1,1]]\n",
    "k = 3\n",
    "\n",
    "Solution().k_weakest_rows(mat, k)"
   ]
  },
  {
   "attachments": {},
   "cell_type": "markdown",
   "metadata": {},
   "source": [
    "### Решения"
   ]
  },
  {
   "attachments": {},
   "cell_type": "markdown",
   "metadata": {},
   "source": [
    "Если у вас есть вектор векторов и вы используете функцию сортировки, она сначала сортируется на основе первого элемента, если есть связь, то она разбивается на основе второго элемента и так далее. Мы можем использовать это свойство в своих интересах, чтобы найти решение. Теперь есть еще одно условие: если два массива одинаковы, то связь разрывается на основе индекса, т.е. если mat[i] == mat[j]тогда iслабее, чем jесли i<jиначе, то наоборот. Итак, что мы можем сделать, так это добавить индекс в конце. Тогда простая сортировка автоматически позаботится об этом втором условии.\n",
    "\n",
    "Итак, когда наша данная матрица была:\n",
    "\n",
    "  index    array\n",
    "\t0 -> [1,1,0,0,0],\n",
    "\t1 -> [1,1,1,1,0],\n",
    "\t2 -> [1,0,0,0,0],    \n",
    "\t3 -> [1,1,0,0,0],\n",
    "\t4 -> [1,1,1,1,1]\n",
    "\n",
    "After mutating:\n",
    "\n",
    "           index\n",
    "            ||\n",
    "            \\/\n",
    "[1,1,0,0,0, 0],\n",
    "[1,1,1,1,0, 1],\n",
    "[1,0,0,0,0, 2],    \n",
    "[1,1,0,0,0, 3],\n",
    "[1,1,1,1,1, 4]\n",
    "Следовательно, если первые n(размер каждого массива) элементы каждого массива одинаковы, связь будет нарушена функцией сортировки с использованием последнего элемента, который в нашем случае является индексом."
   ]
  },
  {
   "cell_type": "code",
   "execution_count": 15,
   "metadata": {},
   "outputs": [
    {
     "data": {
      "text/plain": [
       "[2, 0, 3]"
      ]
     },
     "execution_count": 15,
     "metadata": {},
     "output_type": "execute_result"
    }
   ],
   "source": [
    "class Solution:\n",
    "\tdef kWeakestRows(self, mat: List[List[int]], k: int) -> List[int]:\n",
    "\t\tm = len(mat)\n",
    "\t\t# range(m) - это ключи списка 0, 1, 2, 3, 4 которые будут сортироваться исходя из key\n",
    "\t\t# key=lambda i: (mat[i], i) - создает кортеж, i это занчение value итерации, т.е. ключ списка\n",
    "\t\t# добавляем в конец, будет кортеж из списка и индекса ([1,1,0,0,0], 0) и они являются критерием для\n",
    "\t\t# сортировки ключей списка\n",
    "\t\trows = sorted(range(m), key=lambda i: (mat[i], i))\n",
    "\t\t# Делаем срез и удаляем все ключи из списка после k элементов до конца списка.\n",
    "\t\tdel rows[k:]\n",
    "\t\treturn rows\n",
    "\n",
    "mat =  [[1,1,0,0,0],\n",
    "        [1,1,1,1,0],\n",
    "        [1,0,0,0,0],\n",
    "        [1,1,0,0,0],\n",
    "        [1,1,1,1,1]]\n",
    "k = 3\n",
    "\n",
    "Solution().kWeakestRows(mat, k)"
   ]
  }
 ],
 "metadata": {
  "kernelspec": {
   "display_name": ".venv",
   "language": "python",
   "name": "python3"
  },
  "language_info": {
   "codemirror_mode": {
    "name": "ipython",
    "version": 3
   },
   "file_extension": ".py",
   "mimetype": "text/x-python",
   "name": "python",
   "nbconvert_exporter": "python",
   "pygments_lexer": "ipython3",
   "version": "3.10.6"
  },
  "orig_nbformat": 4
 },
 "nbformat": 4,
 "nbformat_minor": 2
}
