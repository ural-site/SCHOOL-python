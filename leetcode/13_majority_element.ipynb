{
 "cells": [
  {
   "attachments": {},
   "cell_type": "markdown",
   "metadata": {},
   "source": [
    "### 169. Элемент большинства"
   ]
  },
  {
   "attachments": {},
   "cell_type": "markdown",
   "metadata": {},
   "source": [
    "Учитывая массив numssize n, вернуть элемент большинства .\n",
    "\n",
    "Элемент большинства — это элемент, который встречается более ⌊n / 2⌋одного раза. Вы можете предположить, что в массиве всегда существует мажоритарный элемент."
   ]
  },
  {
   "attachments": {},
   "cell_type": "markdown",
   "metadata": {},
   "source": [
    "Example 1:\n",
    "\n",
    "Input: nums = [3,2,3]\n",
    "\n",
    "Output: 3\n",
    "\n",
    "Example 2:\n",
    "\n",
    "Input: nums = [2,2,1,1,1,2,2]\n",
    "\n",
    "Output: 2\n"
   ]
  },
  {
   "cell_type": "code",
   "execution_count": 21,
   "metadata": {},
   "outputs": [
    {
     "data": {
      "text/plain": [
       "2"
      ]
     },
     "execution_count": 21,
     "metadata": {},
     "output_type": "execute_result"
    }
   ],
   "source": [
    "from typing import List\n",
    "\n",
    "\n",
    "class Solution:\n",
    "    def majority_element(self, nums: List[int]) -> int:\n",
    "        i = 0\n",
    "        size = len(nums)\n",
    "        d = {}\n",
    "        for i in nums:\n",
    "            d[i] = d.get(i, 0) + 1\n",
    "            if d[i] > (size / 2): return i\n",
    "        return False\n",
    "    \n",
    "Solution().majority_element([3, 3, 2, 2, 2])"
   ]
  },
  {
   "attachments": {},
   "cell_type": "markdown",
   "metadata": {},
   "source": [
    "#### Используя алгоритм голосования Мура, время: O (n), пробел O (1)"
   ]
  },
  {
   "cell_type": "code",
   "execution_count": 22,
   "metadata": {},
   "outputs": [
    {
     "data": {
      "text/plain": [
       "3"
      ]
     },
     "execution_count": 22,
     "metadata": {},
     "output_type": "execute_result"
    }
   ],
   "source": [
    "class Solution:\n",
    "    def majorityElement(self, nums: List[int]) -> int:\n",
    "        ele = nums[0]\n",
    "        count = 0\n",
    "        for i in range(len(nums)):\n",
    "            if count == 0:\n",
    "                ele = nums[i]\n",
    "            if nums[i] != ele:\n",
    "                count = count - 1\n",
    "            else:\n",
    "                count = count + 1\n",
    "        return ele\n",
    "\n",
    "\n",
    "Solution().majorityElement([3, 3, 2, 2])"
   ]
  }
 ],
 "metadata": {
  "kernelspec": {
   "display_name": ".venv",
   "language": "python",
   "name": "python3"
  },
  "language_info": {
   "name": "python",
   "version": "3.10.6"
  },
  "orig_nbformat": 4
 },
 "nbformat": 4,
 "nbformat_minor": 2
}
