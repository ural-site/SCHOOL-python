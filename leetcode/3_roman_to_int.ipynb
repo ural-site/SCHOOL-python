{
 "cells": [
  {
   "attachments": {},
   "cell_type": "markdown",
   "metadata": {},
   "source": [
    "### 13 . Роман в целое число\n"
   ]
  },
  {
   "attachments": {},
   "cell_type": "markdown",
   "metadata": {},
   "source": [
    "Римские цифры представлены семью различными символами: I, V, X, L, и C, D, M\n"
   ]
  },
  {
   "attachments": {},
   "cell_type": "markdown",
   "metadata": {},
   "source": [
    "| Symbol | Value |\n",
    "| ------ | ----: |\n",
    "| I      |     1 |\n",
    "| V      |     5 |\n",
    "| X      |    10 |\n",
    "| L      |    50 |\n",
    "| C      |   100 |\n",
    "| D      |   500 |\n",
    "| M      |  1000 |\n"
   ]
  },
  {
   "attachments": {},
   "cell_type": "markdown",
   "metadata": {},
   "source": [
    "Например, 2 пишется как II римскими цифрами, просто две сложенные вместе. 12 пишется как XII, что просто X + II. Число 27 записывается как XXVII, то есть XX + V + II.\n",
    "\n",
    "Римские цифры обычно пишутся слева направо от большего к меньшему. Однако цифра «четыре» — не IIII. Вместо этого цифра четыре записывается как IV. Так как единица предшествует пятерке, мы вычитаем ее и получаем четыре. Тот же принцип применим к числу девять, которое записывается как IX. Есть шесть случаев, когда используется вычитание:\n",
    "\n",
    "I можно поставить перед V(5) и X(10), чтобы получилось 4 и 9.\n",
    "\n",
    "X можно поставить перед L(50) и C(100), чтобы получилось 40 и 90.\n",
    "\n",
    "C можно поставить перед D(500) и M(1000), чтобы получить 400 и 900.\n",
    "\n",
    "Дана римская цифра, преобразовать ее в целое число.\n",
    "\n",
    "Пример 1:\n",
    "\n",
    "Ввод: s = \"III\"\n",
    "\n",
    "Вывод: 3\n",
    "\n",
    "Объяснение: III = 3.\n",
    "\n",
    "Пример 2:\n",
    "\n",
    "Вход: s = \"LVIII\"\n",
    "\n",
    "Выход: 58\n",
    "\n",
    "Объяснение: L = 50, V = 5, III = 3.\n",
    "\n",
    "Пример 3:\n",
    "\n",
    "Ввод: s = \"MCMXCIV\"\n",
    "\n",
    "Вывод: 1994\n",
    "\n",
    "Объяснение: M = 1000, CM = 900, XC = 90 и IV = 4.\n"
   ]
  },
  {
   "attachments": {},
   "cell_type": "markdown",
   "metadata": {},
   "source": [
    "### Мое решение"
   ]
  },
  {
   "cell_type": "code",
   "execution_count": 5,
   "metadata": {},
   "outputs": [
    {
     "name": "stdout",
     "output_type": "stream",
     "text": [
      "[1, 1, 1]\n",
      "3\n",
      "[50, 5, 1, 1, 1]\n",
      "58\n",
      "[1000, 900, 90, 4]\n",
      "1994\n",
      "[1000, 1000, 1000, 400, 90]\n",
      "3490\n"
     ]
    }
   ],
   "source": [
    "class Solution:\n",
    "    def __init__(self) -> None:\n",
    "        self.dict_rim = {\n",
    "            \"I\": 1,\n",
    "            \"V\": 5,\n",
    "            \"X\": 10,\n",
    "            \"L\": 50,\n",
    "            \"C\": 100,\n",
    "            \"D\": 500,\n",
    "            \"M\": 1000,\n",
    "        }\n",
    "        self.dict_rim_minus = {\n",
    "            \"IV\": 1,\n",
    "            \"IX\": 1,\n",
    "            \"XL\": 10,\n",
    "            \"XC\": 10,\n",
    "            \"CD\": 100,\n",
    "            \"CM\": 100,\n",
    "        }\n",
    "\n",
    "    def roman_to_int(self, s: str) -> int:\n",
    "        list_num = []\n",
    "        len_s = len(s)\n",
    "        for index, simbol in enumerate(s):\n",
    "            if (index + 1) < len_s and self.__ignored_iter(simbol, index, s):\n",
    "                continue\n",
    "            try:\n",
    "                list_num.append(self.dict_rim[simbol] - self.__minus(simbol, index, s))\n",
    "            except KeyError:\n",
    "                print(f\"Вы использовали недопустимый символ: {simbol}\")\n",
    "        print(list_num)\n",
    "        return sum(list_num)\n",
    "\n",
    "    def __ignored_iter(self, simbol, index_loop, s):\n",
    "        try:\n",
    "            return True if self.dict_rim_minus[simbol + s[index_loop + 1]] > 0 else False\n",
    "        except:\n",
    "            return False\n",
    "    \n",
    "    def __minus(self, simbol, index_loop, s):\n",
    "        if index_loop - 1 < 0:\n",
    "            return 0\n",
    "        try:\n",
    "            minus = self.dict_rim_minus[s[index_loop - 1] + simbol]\n",
    "        except:\n",
    "            minus = 0\n",
    "        return minus\n",
    "\n",
    "\n",
    "print(Solution().roman_to_int(\"III\"))\n",
    "print(Solution().roman_to_int(\"LVIII\"))\n",
    "print(Solution().roman_to_int(\"MCMXCIV\"))\n",
    "print(Solution().roman_to_int(\"MMMCDXC\"))"
   ]
  },
  {
   "attachments": {},
   "cell_type": "markdown",
   "metadata": {},
   "source": [
    "### Решения других"
   ]
  },
  {
   "attachments": {},
   "cell_type": "markdown",
   "metadata": {},
   "source": [
    "#### Хэш-таблица в питоне"
   ]
  },
  {
   "cell_type": "code",
   "execution_count": 3,
   "metadata": {},
   "outputs": [
    {
     "name": "stdout",
     "output_type": "stream",
     "text": [
      "3\n",
      "58\n",
      "1994\n",
      "3490\n"
     ]
    }
   ],
   "source": [
    "class Solution:\n",
    "    def roman_to_int(self, s: str) -> int:\n",
    "        roman = {\"I\": 1, \"V\": 5, \"X\": 10, \"L\": 50, \"C\": 100, \"D\": 500, \"M\": 1000}\n",
    "        number = 0\n",
    "        for i in range(len(s) - 1):\n",
    "            if roman[s[i]] < roman[s[(i + 1)]]:\n",
    "                number -= roman[s[i]]\n",
    "            else:\n",
    "                number += roman[s[i]]\n",
    "        return number + roman[s[-1]]\n",
    "\n",
    "\n",
    "print(Solution().roman_to_int(\"III\"))\n",
    "print(Solution().roman_to_int(\"LVIII\"))\n",
    "print(Solution().roman_to_int(\"MCMXCIV\"))\n",
    "print(Solution().roman_to_int(\"MMMCDXC\"))"
   ]
  },
  {
   "attachments": {},
   "cell_type": "markdown",
   "metadata": {},
   "source": [
    "#### Метод 1:\n",
    "это решение использует подход, включающий общую логику римских цифр в алгоритм. Сначала мы создаем словарь, который сопоставляет каждую римскую цифру с соответствующим целым числом. Мы также создаем общую переменную, установленную на 0.\n",
    "\n",
    "Затем мы перебираем каждое число и проверяем, больше или меньше следующее за ним число. Если он больше, мы можем просто добавить его к общей сумме. Если он меньше, это означает, что вместо этого мы должны вычесть его из общей суммы.\n",
    "\n",
    "Цикл останавливается на предпоследней цифре и возвращает сумму + последнюю цифру (поскольку последняя цифра всегда должна быть добавлена)"
   ]
  },
  {
   "cell_type": "code",
   "execution_count": null,
   "metadata": {},
   "outputs": [],
   "source": [
    "class Solution(object):\n",
    "    def romanToInt(self, s):\n",
    "        roman = {\"I\": 1, \"V\": 5, \"X\": 10, \"L\": 50, \"C\": 100, \"D\": 500, \"M\": 1000}\n",
    "        total = 0\n",
    "        for i in range(len(s) - 1):\n",
    "            if roman[s[i]] < roman[s[i + 1]]:\n",
    "                total -= roman[s[i]]\n",
    "            else:\n",
    "                total += roman[s[i]]\n",
    "        return total + roman[s[-1]]"
   ]
  },
  {
   "attachments": {},
   "cell_type": "markdown",
   "metadata": {},
   "source": [
    "#### Метод 2:\n",
    "В этом решении используется подход, говорящий: «Логика римских цифр слишком сложна. Давайте упростим ее, переписав цифру так, чтобы нам нужно было только складывать и не беспокоиться о вычитании.\n",
    "\n",
    "Он начинается так же, создавая словарь и общую переменную. Затем он выполняет замену подстроки для каждого из 6 возможных случаев, когда может использоваться вычитание, и заменяет ее версией, которую можно просто сложить вместе. Например, IV преобразуется в IIII, так что все цифры можно сложить до 4. Затем мы просто перебираем строку и суммируем результат."
   ]
  },
  {
   "cell_type": "code",
   "execution_count": null,
   "metadata": {},
   "outputs": [],
   "source": [
    "class Solution(object):\n",
    "    def romanToInt(self, s):\n",
    "        roman = {\"I\": 1, \"V\": 5, \"X\": 10, \"L\": 50, \"C\": 100, \"D\": 500, \"M\": 1000}\n",
    "        total = 0\n",
    "        s = s.replace(\"IV\", \"IIII\").replace(\"IX\", \"VIIII\")\n",
    "        s = s.replace(\"XL\", \"XXXX\").replace(\"XC\", \"LXXXX\")\n",
    "        s = s.replace(\"CD\", \"CCCC\").replace(\"CM\", \"DCCCC\")\n",
    "        for symbol in s:\n",
    "            total += roman[symbol]\n",
    "        return total"
   ]
  }
 ],
 "metadata": {
  "kernelspec": {
   "display_name": ".venv",
   "language": "python",
   "name": "python3"
  },
  "language_info": {
   "codemirror_mode": {
    "name": "ipython",
    "version": 3
   },
   "file_extension": ".py",
   "mimetype": "text/x-python",
   "name": "python",
   "nbconvert_exporter": "python",
   "pygments_lexer": "ipython3",
   "version": "3.10.6"
  },
  "orig_nbformat": 4
 },
 "nbformat": 4,
 "nbformat_minor": 2
}
