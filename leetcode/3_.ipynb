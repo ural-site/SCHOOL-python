{
 "cells": [
  {
   "attachments": {},
   "cell_type": "markdown",
   "metadata": {},
   "source": [
    "### 13 . Роман в целое число\n"
   ]
  },
  {
   "attachments": {},
   "cell_type": "markdown",
   "metadata": {},
   "source": [
    "Римские цифры представлены семью различными символами: I, V, X, L, и C, D, M\n"
   ]
  },
  {
   "attachments": {},
   "cell_type": "markdown",
   "metadata": {},
   "source": [
    "| Symbol | Value |\n",
    "| ------ | ----: |\n",
    "| I      |     1 |\n",
    "| V      |     5 |\n",
    "| X      |    10 |\n",
    "| L      |    50 |\n",
    "| C      |   100 |\n",
    "| D      |   500 |\n",
    "| M      |  1000 |\n"
   ]
  },
  {
   "attachments": {},
   "cell_type": "markdown",
   "metadata": {},
   "source": [
    "Например, 2 пишется как II римскими цифрами, просто две сложенные вместе. 12 пишется как XII, что просто X + II. Число 27 записывается как XXVII, то есть XX + V + II.\n",
    "\n",
    "Римские цифры обычно пишутся слева направо от большего к меньшему. Однако цифра «четыре» — не IIII. Вместо этого цифра четыре записывается как IV. Так как единица предшествует пятерке, мы вычитаем ее и получаем четыре. Тот же принцип применим к числу девять, которое записывается как IX. Есть шесть случаев, когда используется вычитание:\n",
    "\n",
    "I можно поставить перед V(5) и X(10), чтобы получилось 4 и 9.\n",
    "\n",
    "X можно поставить перед L(50) и C(100), чтобы получилось 40 и 90.\n",
    "\n",
    "C можно поставить перед D(500) и M(1000), чтобы получить 400 и 900.\n",
    "\n",
    "Дана римская цифра, преобразовать ее в целое число.\n",
    "\n",
    "Пример 1:\n",
    "\n",
    "Ввод: s = \"III\"\n",
    "\n",
    "Вывод: 3\n",
    "\n",
    "Объяснение: III = 3.\n",
    "\n",
    "Пример 2:\n",
    "\n",
    "Вход: s = \"LVIII\"\n",
    "\n",
    "Выход: 58\n",
    "\n",
    "Объяснение: L = 50, V = 5, III = 3.\n",
    "\n",
    "Пример 3:\n",
    "\n",
    "Ввод: s = \"MCMXCIV\"\n",
    "\n",
    "Вывод: 1994\n",
    "\n",
    "Объяснение: M = 1000, CM = 900, XC = 90 и IV = 4.\n"
   ]
  },
  {
   "cell_type": "code",
   "execution_count": 26,
   "metadata": {},
   "outputs": [
    {
     "name": "stdout",
     "output_type": "stream",
     "text": [
      "3\n",
      "58\n",
      "1994\n"
     ]
    }
   ],
   "source": [
    "class Solution:\n",
    "    def __init__(self) -> None:\n",
    "        self.dict_rim = {\n",
    "            \"I\": 1,\n",
    "            \"V\": 5,\n",
    "            \"X\": 10,\n",
    "            \"L\": 50,\n",
    "            \"C\": 100,\n",
    "            \"D\": 500,\n",
    "            \"M\": 1000,\n",
    "        }\n",
    "        self.dict_rim_minus = {\n",
    "            \"IV\": 1,\n",
    "            \"IX\": 1,\n",
    "            \"XL\": 10,\n",
    "            \"XC\": 10,\n",
    "            \"CD\": 100,\n",
    "            \"CM\": 100,\n",
    "        }\n",
    "\n",
    "    def romanToInt(self, s: str) -> int:\n",
    "        list_num = []\n",
    "        len_s = len(s)\n",
    "        for index, simbol in enumerate(s):\n",
    "            if (index + 1) < len_s and self.__ignored_iter(simbol, index, s):\n",
    "                continue\n",
    "            try:\n",
    "                list_num.append(self.dict_rim[simbol] - self.__minus(simbol, index, s))\n",
    "            except KeyError:\n",
    "                print(f\"Вы использовали недопустимый символ: {simbol}\")\n",
    "        return sum(list_num)\n",
    "\n",
    "    def __ignored_iter(self, simbol, index_loop, s):\n",
    "        try:\n",
    "            return True if self.dict_rim_minus[simbol + s[index_loop + 1]] > 0 else False\n",
    "        except:\n",
    "            return False\n",
    "    \n",
    "    def __minus(self, simbol, index_loop, s):\n",
    "        try:\n",
    "            minus = self.dict_rim_minus[s[index_loop - 1] + simbol]\n",
    "        except:\n",
    "            minus = 0\n",
    "        return minus\n",
    "\n",
    "\n",
    "print(Solution().romanToInt(\"III\"))\n",
    "print(Solution().romanToInt(\"LVIII\"))\n",
    "print(Solution().romanToInt(\"MCMXCIV\"))"
   ]
  }
 ],
 "metadata": {
  "kernelspec": {
   "display_name": ".venv",
   "language": "python",
   "name": "python3"
  },
  "language_info": {
   "codemirror_mode": {
    "name": "ipython",
    "version": 3
   },
   "file_extension": ".py",
   "mimetype": "text/x-python",
   "name": "python",
   "nbconvert_exporter": "python",
   "pygments_lexer": "ipython3",
   "version": "3.10.6"
  },
  "orig_nbformat": 4
 },
 "nbformat": 4,
 "nbformat_minor": 2
}
