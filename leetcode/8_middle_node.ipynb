{
 "cells": [
  {
   "attachments": {},
   "cell_type": "markdown",
   "metadata": {},
   "source": [
    "### 876. Middle of the Linked List\n",
    "876 . Середина связанного списка"
   ]
  },
  {
   "attachments": {},
   "cell_type": "markdown",
   "metadata": {},
   "source": [
    "Учитывая head односвязный список, вернуть средний узел связанного списка.\n",
    "\n",
    "Если есть два средних узла, вернуть второй средний узел.\n",
    "\n",
    "Example 1:\n",
    "\n",
    "\n",
    "Input: head = [1,2,3,4,5]\n",
    "\n",
    "Output: [3,4,5]\n",
    "\n",
    "Explanation: The middle node of the list is node 3.\n",
    "\n",
    "Объяснение: Средний узел списка — это узел 3.\n",
    "\n",
    "\n",
    "Example 2:\n",
    "\n",
    "\n",
    "Input: head = [1,2,3,4,5,6]\n",
    "\n",
    "Output: [4,5,6]\n",
    "\n",
    "Explanation: Since the list has two middle nodes with values 3 and 4, we return the second one.\n",
    "\n",
    "Объяснение: Поскольку в списке есть два средних узла со значениями 3 и 4, мы возвращаем второй.\n"
   ]
  },
  {
   "cell_type": "code",
   "execution_count": 10,
   "metadata": {},
   "outputs": [
    {
     "name": "stdout",
     "output_type": "stream",
     "text": [
      "4\n",
      "5\n",
      "6\n"
     ]
    }
   ],
   "source": [
    "from typing import Optional\n",
    "\n",
    "\n",
    "class ListNode:\n",
    "    def __init__(self, val=0, next=None):\n",
    "        self.val = val\n",
    "        self.next = next\n",
    "\n",
    "\n",
    "class Solution:\n",
    "    def middle_node(self, head: Optional[ListNode]) -> Optional[ListNode]:\n",
    "        count = 0\n",
    "        center = 0\n",
    "        \n",
    "        node = head\n",
    "        while node:\n",
    "            count += 1\n",
    "            node = node.next\n",
    "        \n",
    "        if count == 0:\n",
    "            return None\n",
    "        \n",
    "        center = count // 2 + 1\n",
    "        \n",
    "        node = head\n",
    "        \n",
    "        i = 0\n",
    "        \n",
    "        while node and head.next:\n",
    "            i += 1\n",
    "            if i < center:\n",
    "                prev_node, head = head, head.next\n",
    "                prev_node.next = head.next\n",
    "            node = node.next\n",
    "        \n",
    "        # for i in range(count):\n",
    "        #     if node.next != None:\n",
    "        #         prev_node, node = node, node.next\n",
    "        \n",
    "        return head\n",
    "\n",
    "\n",
    "\n",
    "head = ListNode(1)\n",
    "head.next = ListNode(2)\n",
    "head.next.next = ListNode(3)\n",
    "head.next.next.next = ListNode(4)\n",
    "head.next.next.next.next = ListNode(5)\n",
    "head.next.next.next.next.next = ListNode(6)\n",
    "\n",
    "middle_node = Solution().middle_node(head)\n",
    "\n",
    "while middle_node:\n",
    "    print(middle_node.val)\n",
    "    middle_node = middle_node.next\n"
   ]
  },
  {
   "attachments": {},
   "cell_type": "markdown",
   "metadata": {},
   "source": [
    "### Решения"
   ]
  },
  {
   "attachments": {},
   "cell_type": "markdown",
   "metadata": {},
   "source": [
    "Эй, я думаю, что ваше решение блестяще, но объяснение не так ясно. Я думаю, было бы легче понять, если бы вы упомянули, что p2 движется в два раза быстрее, чем p1. Итак, когда p2 доходит до конца, p1 оказывается посередине. Я так понимаю, во всяком случае, я могу ошибаться - дайте мне знать."
   ]
  },
  {
   "cell_type": "code",
   "execution_count": 11,
   "metadata": {},
   "outputs": [
    {
     "name": "stdout",
     "output_type": "stream",
     "text": [
      "4\n",
      "5\n",
      "6\n"
     ]
    }
   ],
   "source": [
    "# Time Complexity :  O(n)\n",
    "# Space Complexity : O(1)\n",
    "class Solution(object):\n",
    "    def middleNode(self, head):\n",
    "        # We need two pointers, one is head with one step each iteration, and the other is tmp with two steps each iteration.\n",
    "        temp = head\n",
    "        while temp and temp.next:\n",
    "            # In each iteration, we move head one node forward and we move temp two nodes forward...\n",
    "            head = head.next\n",
    "            temp = temp.next.next\n",
    "        # When temp reaches the last node, head will be exactly at the middle point...\n",
    "        return head\n",
    "    \n",
    "\n",
    "head = ListNode(1)\n",
    "head.next = ListNode(2)\n",
    "head.next.next = ListNode(3)\n",
    "head.next.next.next = ListNode(4)\n",
    "head.next.next.next.next = ListNode(5)\n",
    "head.next.next.next.next.next = ListNode(6)\n",
    "\n",
    "middle_node = Solution().middleNode(head)\n",
    "\n",
    "while middle_node:\n",
    "    print(middle_node.val)\n",
    "    middle_node = middle_node.next"
   ]
  }
 ],
 "metadata": {
  "kernelspec": {
   "display_name": ".venv",
   "language": "python",
   "name": "python3"
  },
  "language_info": {
   "codemirror_mode": {
    "name": "ipython",
    "version": 3
   },
   "file_extension": ".py",
   "mimetype": "text/x-python",
   "name": "python",
   "nbconvert_exporter": "python",
   "pygments_lexer": "ipython3",
   "version": "3.10.6"
  },
  "orig_nbformat": 4
 },
 "nbformat": 4,
 "nbformat_minor": 2
}
