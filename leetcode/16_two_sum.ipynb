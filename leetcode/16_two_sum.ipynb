{
 "cells": [
  {
   "attachments": {},
   "cell_type": "markdown",
   "metadata": {},
   "source": [
    "### 1. Две суммы"
   ]
  },
  {
   "attachments": {},
   "cell_type": "markdown",
   "metadata": {},
   "source": [
    "Дан массив целых чисел nums и целое число target, вернуть индексы двух чисел так, чтобы они в сумме составляли target.\n",
    "\n",
    "Вы можете предположить, что каждый вход будет иметь ровно одно решение, и вы не можете использовать один и тот же элемент дважды.\n",
    "\n",
    "Вы можете вернуть ответ в любом порядке."
   ]
  },
  {
   "attachments": {},
   "cell_type": "markdown",
   "metadata": {},
   "source": [
    "Example 1:\n",
    "\n",
    "Input: nums = [2,7,11,15], target = 9\n",
    "Output: [0,1]\n",
    "Explanation: Because nums[0] + nums[1] == 9, we return [0, 1].\n",
    "\n",
    "Example 2:\n",
    "\n",
    "Input: nums = [3,2,4], target = 6\n",
    "Output: [1,2]\n",
    "\n",
    "Example 3:\n",
    "\n",
    "Input: nums = [3,3], target = 6\n",
    "Output: [0,1]"
   ]
  },
  {
   "cell_type": "code",
   "execution_count": null,
   "metadata": {},
   "outputs": [],
   "source": [
    "class Solution:\n",
    "    def two_sum(self, nums: list[int], target: int) -> list[int]:\n",
    "        for i in range(len(nums)):\n",
    "            for n in range(len(nums)):\n",
    "                if i == n: continue\n",
    "                if (nums[i] + nums[n]) == target: return [i, n]\n",
    "        return []\n",
    "    \n",
    "print(Solution().two_sum([2,7,11,15], 9))\n",
    "print(Solution().two_sum([3,2,4], 6))\n",
    "print(Solution().two_sum([3,3], 6))\n",
    "print(Solution().two_sum([3,2,3], 6))"
   ]
  },
  {
   "attachments": {},
   "cell_type": "markdown",
   "metadata": {},
   "source": [
    "#### Решения"
   ]
  },
  {
   "attachments": {},
   "cell_type": "markdown",
   "metadata": {},
   "source": [
    "Интуиция\n",
    "Задача с двумя суммами требует от нас найти в массиве два числа, которые в сумме дают заданное целевое значение. Нам нужно вернуть индексы этих двух чисел.\n",
    "\n",
    "Подход\n",
    "Один из подходов грубой силы состоит в том, чтобы рассмотреть каждую пару элементов и проверить, равна ли их сумма цели. Это можно сделать с помощью вложенных циклов, где внешний цикл повторяется от первого элемента к предпоследнему элементу, а внутренний цикл повторяется от следующего элемента к последнему элементу. Однако этот подход имеет временную сложность O (n ^ 2).\n",
    "Более эффективным подходом является использование хеш-таблицы (unordered_map в C++). Мы можем выполнить итерацию по массиву один раз и для каждого элемента проверить, существует ли цель за вычетом текущего элемента в хеш-таблице. Если это так, мы нашли допустимую пару чисел. Если нет, мы добавляем текущий элемент в хеш-таблицу.\n",
    "Подход с использованием хеш-таблицы:\n",
    "\n",
    "Создайте пустую хеш-таблицу для хранения элементов и их индексов.\n",
    "Итерация по массиву слева направо.\n",
    "Для каждого элемента nums[i] вычислите дополнение, вычитая его из цели: дополнение = цель - nums[i].\n",
    "Проверьте, существует ли дополнение в хеш-таблице. Если это так, мы нашли решение.\n",
    "Если дополнение не существует в хэш-таблице, добавьте текущий элемент nums[i] в ​​хэш-таблицу с его индексом в качестве значения.\n",
    "Повторяем шаги 3-5, пока не найдем решение или не дойдем до конца массива.\n",
    "Если решение не найдено, вернуть пустой массив или соответствующий индикатор.\n",
    "Этот подход имеет временную сложность O(n), поскольку поиск в хэш-таблице в среднем занимает постоянное время. Это позволяет нам эффективно решить задачу двух сумм, сделав всего один проход по массиву."
   ]
  },
  {
   "attachments": {},
   "cell_type": "markdown",
   "metadata": {},
   "source": [
    "##### Решение 1: (Грубая сила)"
   ]
  },
  {
   "cell_type": "code",
   "execution_count": null,
   "metadata": {},
   "outputs": [],
   "source": [
    "class Solution:\n",
    "    def twoSum(self, nums: list[int], target: int) -> list[int]:\n",
    "        n = len(nums)\n",
    "        for i in range(n - 1):\n",
    "            for j in range(i + 1, n):\n",
    "                if nums[i] + nums[j] == target:\n",
    "                    return [i, j]\n",
    "        return []  # No solution found"
   ]
  },
  {
   "attachments": {},
   "cell_type": "markdown",
   "metadata": {},
   "source": [
    "##### Решение 2: (двухпроходная хеш-таблица)"
   ]
  },
  {
   "cell_type": "code",
   "execution_count": null,
   "metadata": {},
   "outputs": [],
   "source": [
    "class Solution:\n",
    "    def twoSum(self, nums: list[int], target: int) -> list[int]:\n",
    "        numMap = {}\n",
    "        n = len(nums)\n",
    "\n",
    "        # Build the hash table\n",
    "        for i in range(n):\n",
    "            numMap[nums[i]] = i\n",
    "            \n",
    "        print(numMap)\n",
    "\n",
    "        # Find the complement\n",
    "        for i in range(n):\n",
    "            complement = target - nums[i]\n",
    "            \n",
    "            # print(target, nums[i], complement)\n",
    "            # print(complement in numMap)\n",
    "            # print(numMap[complement])\n",
    "            \n",
    "            if complement in numMap and numMap[complement] != i:\n",
    "                return [i, numMap[complement]]\n",
    "\n",
    "        return []  # No solution found\n",
    "    \n",
    "#print(Solution().twoSum([2,7,11,15], 9))\n",
    "print(Solution().twoSum([3,2,4], 6))\n",
    "#print(Solution().twoSum([3,3], 6))\n",
    "#print(Solution().twoSum([3,2,3], 6))"
   ]
  },
  {
   "attachments": {},
   "cell_type": "markdown",
   "metadata": {},
   "source": [
    "##### Решение 3: (однопроходная хеш-таблица)"
   ]
  },
  {
   "cell_type": "code",
   "execution_count": null,
   "metadata": {},
   "outputs": [],
   "source": [
    "class Solution:\n",
    "    def twoSum(self, nums: list[int], target: int) -> list[int]:\n",
    "        numMap = {}\n",
    "        n = len(nums)\n",
    "\n",
    "        for i in range(n):\n",
    "            complement = target - nums[i]\n",
    "            if complement in numMap:\n",
    "                return [numMap[complement], i]\n",
    "            numMap[nums[i]] = i\n",
    "\n",
    "        return []  # No solution found\n",
    "    \n",
    "print(Solution().twoSum([2,7,11,15], 9))\n",
    "print(Solution().twoSum([3,2,4], 6))\n",
    "print(Solution().twoSum([3,3], 6))\n",
    "print(Solution().twoSum([3,2,3], 6))"
   ]
  }
 ],
 "metadata": {
  "kernelspec": {
   "display_name": ".venv",
   "language": "python",
   "name": "python3"
  },
  "language_info": {
   "codemirror_mode": {
    "name": "ipython",
    "version": 3
   },
   "file_extension": ".py",
   "mimetype": "text/x-python",
   "name": "python",
   "nbconvert_exporter": "python",
   "pygments_lexer": "ipython3",
   "version": "3.10.6"
  },
  "orig_nbformat": 4
 },
 "nbformat": 4,
 "nbformat_minor": 2
}
