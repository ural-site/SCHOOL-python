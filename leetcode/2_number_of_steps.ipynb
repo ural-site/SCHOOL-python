{
 "cells": [
  {
   "attachments": {},
   "cell_type": "markdown",
   "metadata": {},
   "source": [
    "### 1342. Количество шагов для уменьшения числа до нуля\n"
   ]
  },
  {
   "attachments": {},
   "cell_type": "markdown",
   "metadata": {},
   "source": [
    "Учитывая целое число num, вернуть количество шагов, чтобы уменьшить его до нуля .\n",
    "\n",
    "За один шаг, если текущее число четное, вы должны разделить его на 2, в противном случае вы должны вычесть 1из него.\n",
    "\n",
    "Пример 1:\n",
    "\n",
    "Ввод: число = 14\n",
    "\n",
    "Вывод: 6\n",
    "\n",
    "Объяснение:\n",
    "\n",
    "Шаг 1) 14 четно; делим на 2 и получаем 7.\n",
    "\n",
    "Шаг 2) 7 нечетное; вычесть 1 и получить 6.\n",
    "\n",
    "Шаг 3) 6 четно; делим на 2 и получаем 3.\n",
    "\n",
    "Шаг 4) 3 нечетно; вычесть 1 и получить 2.\n",
    "\n",
    "Шаг 5) 2 четно; делим на 2 и получаем 1.\n",
    "\n",
    "Шаг 6) 1 нечетное; вычесть 1 и получить 0.\n",
    "\n",
    "Пример 2:\n",
    "\n",
    "Ввод: число = 8\n",
    "\n",
    "Вывод: 4\n",
    "\n",
    "Объяснение:\n",
    "\n",
    "Шаг 1) 8 четно; делим на 2 и получаем 4.\n",
    "\n",
    "Шаг 2) 4 четно; делим на 2 и получаем 2.\n",
    "\n",
    "Шаг 3) 2 четно; делим на 2 и получаем 1.\n",
    "\n",
    "Шаг 4) 1 нечетное; вычесть 1 и получить 0.\n",
    "\n",
    "Пример 3:\n",
    "\n",
    "Ввод: число = 123\n",
    "Выход: 12\n"
   ]
  },
  {
   "attachments": {},
   "cell_type": "markdown",
   "metadata": {},
   "source": [
    "#### Мое решение"
   ]
  },
  {
   "cell_type": "code",
   "execution_count": null,
   "metadata": {},
   "outputs": [],
   "source": [
    "class Solution:\n",
    "    def __init__(self) -> None:\n",
    "        self.__steps: int = 0\n",
    "\n",
    "    def number_of_steps(self, num: int) -> int:\n",
    "        remainder = num\n",
    "        while True:\n",
    "            remainder = self.__step(remainder)\n",
    "            if remainder <= 0:\n",
    "                break\n",
    "        return self.__steps\n",
    "\n",
    "    def __step(self, num: int) -> int:\n",
    "        ''' Делаем шаг\n",
    "        '''\n",
    "        self.__steps += 1\n",
    "        if self.__is_even(num):\n",
    "            return int(num / 2)\n",
    "        else:\n",
    "            return num - 1\n",
    "\n",
    "    def __is_even(self, num: int) -> bool:\n",
    "        \"\"\"Проверяем четное или нет\"\"\"\n",
    "        return not (num & 1)\n",
    "\n",
    "\n",
    "Solution().number_of_steps(14)"
   ]
  },
  {
   "attachments": {},
   "cell_type": "markdown",
   "metadata": {},
   "source": [
    "#### Рекурсивное решение"
   ]
  },
  {
   "cell_type": "code",
   "execution_count": null,
   "metadata": {},
   "outputs": [],
   "source": [
    "class Solution:\n",
    "    \"\"\"\n",
    "    Time:   O(log(n))\n",
    "    Memory: O(log(n))\n",
    "    \"\"\"\n",
    "\n",
    "    def numberOfSteps(self, num: int) -> int:\n",
    "        if num == 0:\n",
    "            return 0\n",
    "        return 1 + self.numberOfSteps(num - 1 if num & 1 else num >> 1)\n",
    "    \n",
    "Solution().numberOfSteps(14)"
   ]
  },
  {
   "attachments": {},
   "cell_type": "markdown",
   "metadata": {},
   "source": [
    "#### Итеративное решение"
   ]
  },
  {
   "cell_type": "code",
   "execution_count": null,
   "metadata": {},
   "outputs": [],
   "source": [
    "class Solution:\n",
    "    \"\"\"\n",
    "    Time:   O(log(n))\n",
    "    Memory: O(1)\n",
    "    \"\"\"\n",
    "\n",
    "    def numberOfSteps(self, num: int) -> int:\n",
    "        steps = 0\n",
    "\n",
    "        while num != 0:\n",
    "            steps += 1\n",
    "            if num & 1:\n",
    "                num -= 1\n",
    "            else:\n",
    "                num >>= 1\n",
    "\n",
    "        return steps\n",
    "\n",
    "Solution().numberOfSteps(14)"
   ]
  },
  {
   "attachments": {},
   "cell_type": "markdown",
   "metadata": {},
   "source": [
    "#### Решение для битовых манипуляций"
   ]
  },
  {
   "cell_type": "code",
   "execution_count": null,
   "metadata": {},
   "outputs": [],
   "source": [
    "class Solution:\n",
    "    \"\"\"\n",
    "    Time:   O(1)\n",
    "    Memory: O(1)\n",
    "    \"\"\"\n",
    "\n",
    "    def numberOfSteps(self, num: int) -> int:\n",
    "        if num == 0:\n",
    "            return 0\n",
    "        return num.bit_length() - 1 + num.bit_count()\n",
    "\n",
    "Solution().numberOfSteps(14)"
   ]
  }
 ],
 "metadata": {
  "kernelspec": {
   "display_name": ".venv",
   "language": "python",
   "name": "python3"
  },
  "language_info": {
   "codemirror_mode": {
    "name": "ipython",
    "version": 3
   },
   "file_extension": ".py",
   "mimetype": "text/x-python",
   "name": "python",
   "nbconvert_exporter": "python",
   "pygments_lexer": "ipython3",
   "version": "3.10.6"
  },
  "orig_nbformat": 4
 },
 "nbformat": 4,
 "nbformat_minor": 2
}
