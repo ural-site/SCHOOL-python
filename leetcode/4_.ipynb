{
 "cells": [
  {
   "attachments": {},
   "cell_type": "markdown",
   "metadata": {},
   "source": [
    "### 88. Объединить отсортированный массив"
   ]
  },
  {
   "attachments": {},
   "cell_type": "markdown",
   "metadata": {},
   "source": [
    "Вам даны два массива целых чисел nums1 и nums2, отсортированные в неубывающем порядке, и два целых числа m и n, представляющие количество элементов в nums1 и nums2 соответственно.\n",
    "\n",
    "Объединить nums1 и nums2 в один массив, отсортированный в неубывающем порядке.\n",
    "\n",
    "Окончательный отсортированный массив не должен возвращаться функцией, а должен храниться внутри массива nums1. Чтобы приспособиться к этому, nums1 имеет длину m + n, где первые m элементы обозначают элементы, которые должны быть объединены, а последние n элементы установлены 0 и должны игнорироваться. nums2 имеет длину n.\n",
    "\n",
    " \n",
    "\n",
    "Пример 1:\n",
    "\n",
    "Ввод: nums1 = [1,2,3,0,0,0], m = 3, nums2 = [2,5,6], n = 3\n",
    " Вывод: [1,2,2,3,5,6]\n",
    " Объяснение: мы объединяем массивы [1,2,3] и [2,5,6].\n",
    "Результатом слияния является [ 1, 2, 2, 3, 5, 6] с подчеркнутыми элементами, исходящими из nums1.\n",
    "\n",
    "Пример 2:\n",
    "\n",
    "Ввод: nums1 = [1], m = 1, nums2 = [], n = 0\n",
    " Вывод: [1]\n",
    " Объяснение: Мы объединяем массивы [1] и [].\n",
    "Результат слияния [1].\n",
    "Пример 3:\n",
    "\n",
    "Ввод: nums1 = [0], m = 0, nums2 = [1], n = 1\n",
    " Вывод: [1]\n",
    " Объяснение: Мы объединяем массивы [] и [1].\n",
    "Результат слияния [1].\n",
    "Обратите внимание, что поскольку m = 0, в nums1 нет элементов. 0 нужен только для того, чтобы результат слияния поместился в nums1."
   ]
  },
  {
   "cell_type": "code",
   "execution_count": 9,
   "metadata": {},
   "outputs": [
    {
     "name": "stdout",
     "output_type": "stream",
     "text": [
      "[1, 2, 2, 3, 5, 6]\n"
     ]
    }
   ],
   "source": [
    "from typing import List\n",
    "\n",
    "\n",
    "class Solution:\n",
    "    def merge(self, nums1: List[int], m: int, nums2: List[int], n: int) -> None:\n",
    "        \"\"\"\n",
    "        Do not return anything, modify nums1 in-place instead.\n",
    "        \"\"\"\n",
    "        # if m == 0:\n",
    "        #     nums1 = [el for el in nums2 if el != 0]\n",
    "        # elif n == 0:\n",
    "        #     nums1 = [el for el in nums1 if el != 0]\n",
    "        # else:\n",
    "        #     nums1 = []\n",
    "        \n",
    "        nums1 = (nums1 + nums2)\n",
    "        nums1 = [el for el in nums1 if el != 0]\n",
    "        nums1.sort()\n",
    "        \n",
    "        print(nums1)\n",
    "            \n",
    "\n",
    "Solution().merge([1,2,3,0,0,0], 3, [2,5,6], 3)\n",
    "        "
   ]
  }
 ],
 "metadata": {
  "kernelspec": {
   "display_name": ".venv",
   "language": "python",
   "name": "python3"
  },
  "language_info": {
   "codemirror_mode": {
    "name": "ipython",
    "version": 3
   },
   "file_extension": ".py",
   "mimetype": "text/x-python",
   "name": "python",
   "nbconvert_exporter": "python",
   "pygments_lexer": "ipython3",
   "version": "3.10.6"
  },
  "orig_nbformat": 4
 },
 "nbformat": 4,
 "nbformat_minor": 2
}
