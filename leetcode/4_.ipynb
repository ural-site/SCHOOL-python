{
 "cells": [
  {
   "attachments": {},
   "cell_type": "markdown",
   "metadata": {},
   "source": [
    "### 88. Объединить отсортированный массив"
   ]
  },
  {
   "attachments": {},
   "cell_type": "markdown",
   "metadata": {},
   "source": [
    "Вам даны два массива целых чисел nums1 и nums2, отсортированные в неубывающем порядке, и два целых числа m и n, представляющие количество элементов в nums1 и nums2 соответственно.\n",
    "\n",
    "Объединить nums1 и nums2 в один массив, отсортированный в неубывающем порядке.\n",
    "\n",
    "Окончательный отсортированный массив не должен возвращаться функцией, а должен храниться внутри массива nums1. Чтобы приспособиться к этому, nums1 имеет длину m + n, где первые m элементы обозначают элементы, которые должны быть объединены, а последние n элементы установлены 0 и должны игнорироваться. nums2 имеет длину n.\n",
    "\n",
    " \n",
    "\n",
    "Пример 1:\n",
    "\n",
    "Ввод: nums1 = [1,2,3,0,0,0], m = 3, nums2 = [2,5,6], n = 3\n",
    " Вывод: [1,2,2,3,5,6]\n",
    " Объяснение: мы объединяем массивы [1,2,3] и [2,5,6].\n",
    "Результатом слияния является [ 1, 2, 2, 3, 5, 6] с подчеркнутыми элементами, исходящими из nums1.\n",
    "\n",
    "Пример 2:\n",
    "\n",
    "Ввод: nums1 = [1], m = 1, nums2 = [], n = 0\n",
    " Вывод: [1]\n",
    " Объяснение: Мы объединяем массивы [1] и [].\n",
    "Результат слияния [1].\n",
    "Пример 3:\n",
    "\n",
    "Ввод: nums1 = [0], m = 0, nums2 = [1], n = 1\n",
    " Вывод: [1]\n",
    " Объяснение: Мы объединяем массивы [] и [1].\n",
    "Результат слияния [1].\n",
    "Обратите внимание, что поскольку m = 0, в nums1 нет элементов. 0 нужен только для того, чтобы результат слияния поместился в nums1."
   ]
  },
  {
   "cell_type": "code",
   "execution_count": 9,
   "metadata": {},
   "outputs": [
    {
     "name": "stdout",
     "output_type": "stream",
     "text": [
      "[1]\n",
      "[1]\n",
      "[1, 2, 2, 3, 5, 6]\n"
     ]
    }
   ],
   "source": [
    "from typing import List\n",
    "\n",
    "\n",
    "class Solution:\n",
    "    def merge(self, nums1: List[int], m: int, nums2: List[int], n: int) -> None:\n",
    "        \"\"\"\n",
    "        Do not return anything, modify nums1 in-place instead.\n",
    "        \"\"\"\n",
    "        # l = []\n",
    "        # c_1, c_2 = len(nums1), len(nums2)\n",
    "        # if c_1 >= c_2:\n",
    "        #     c = c_1\n",
    "        #     l_1, l_2 = nums1, nums2 \n",
    "        # else:\n",
    "        #     c = c_2\n",
    "        #     l_1, l_2 = nums2, nums1 \n",
    "        \n",
    "        # for i in range(c):\n",
    "        #     l.append(l_1[i]) \n",
    "        #     l.append(l_2[i]) if l_1[i] else False\n",
    "        \n",
    "        # nums1 = [el for el in l if el != 0]\n",
    "        # nums1.sort()\n",
    "        \n",
    "        if m >= n:\n",
    "            c_1, c_2 = m, n \n",
    "            l_1, l_2 = nums1, nums2 \n",
    "        else:\n",
    "            c_1, c_2 = n, m \n",
    "            l_1, l_2 = nums2, nums1 \n",
    "        \n",
    "        nums1 = []\n",
    "        for i in range(c_1):\n",
    "            nums1.append(l_1[i])\n",
    "            nums1.append(l_2[i]) if i < c_2 else False\n",
    "\n",
    "        nums1.sort()\n",
    "        print(nums1)\n",
    "\n",
    "\n",
    "Solution().merge([1], 1, [], 0)\n",
    "Solution().merge([0], 0, [1], 1)\n",
    "Solution().merge([1,2,3,0,0,0], 3, [2,5,6], 3)\n",
    "        "
   ]
  },
  {
   "attachments": {},
   "cell_type": "markdown",
   "metadata": {},
   "source": []
  },
  {
   "cell_type": "code",
   "execution_count": 11,
   "metadata": {},
   "outputs": [
    {
     "name": "stdout",
     "output_type": "stream",
     "text": [
      "[1]\n",
      "[1]\n",
      "[1, 2, 2, 3, 5, 6]\n"
     ]
    }
   ],
   "source": [
    "class Solution:\n",
    "    def merge(self, nums1: List[int], m: int, nums2: List[int], n: int) -> None:\n",
    "        for i in range(m, m + n):\n",
    "            nums1[i] = nums2[i - m]\n",
    "        nums1.sort()\n",
    "        print(nums1)\n",
    "\n",
    "\n",
    "Solution().merge([1], 1, [], 0)\n",
    "Solution().merge([0], 0, [1], 1)\n",
    "Solution().merge([1, 2, 3, 0, 0, 0], 3, [2, 5, 6], 3)"
   ]
  },
  {
   "attachments": {},
   "cell_type": "markdown",
   "metadata": {},
   "source": [
    "#### Объединить отсортированные массивы. Техника двух конечных указателей. Питон"
   ]
  },
  {
   "attachments": {},
   "cell_type": "markdown",
   "metadata": {},
   "source": [
    "Интуиция\n",
    "Это типичный массив отсортированных слиянием. Но мы должны выполнить это на месте. Надеюсь, мы сможем сделать это легко, потому что у нашего nums1 достаточно места.\n",
    "\n",
    "Подход\n",
    "Изначально мы определяем два указателя — p1, p2. В то время как p2 является ссылкой на окончания массива nums2, наш p1 является просто указателем на подмассив nums1, который состоит из ненулевых значений. Третий указатель будет указывать на конец массива nums1.\n",
    "Мы определяем цикл while, внутри которого мы проверяем, меньше ли наш последний элемент nums1[p1], чем последний элемент nums2[p2]. Если это правда, мы уменьшаем p2 и меняем наш главный указатель p.\n",
    "Мы поступаем следующим образом, пока не останется хотя бы один из наших указателей.\n",
    "Если наш массив nums2 еще не пуст, это означает, что у нас закончились значения в первом списке nums1. Так что в этом случае все они неизбежно больше, чем остальные значения в nums2. Все, что нужно сделать, это просто добавить недостающие элементы массива nums2 в начало nums1.\n",
    "Важная заметка\n",
    "Когда мы начинаем слияние с конца, мы гарантируем, что не перезапишем ни один элемент в nums1, который еще не был рассмотрен. Вот почему нам не нужно дополнительное пространство, и мы можем выполнить слияние непосредственно в nums1.\n",
    "\n",
    "Если бы мы начали слияние с самого начала, мы действительно могли бы перезаписать элементы в nums1 до того, как они будут сравнены с элементами в nums2, что привело бы к ошибкам в объединенном выводе. Начиная с конца элегантно избегая этой проблемы.\n",
    "\n",
    "Сложность\n",
    "Временная сложность: O(m+n) в худшем случае, когда мы должны пройти через все значения в nums1.\n",
    "Сложность пространства: O(1)"
   ]
  },
  {
   "cell_type": "code",
   "execution_count": 13,
   "metadata": {},
   "outputs": [
    {
     "name": "stdout",
     "output_type": "stream",
     "text": [
      "[1]\n",
      "[1]\n",
      "[1, 2, 2, 3, 5, 6]\n"
     ]
    }
   ],
   "source": [
    "class Solution:\n",
    "    def merge(self, nums1: List[int], m: int, nums2: List[int], n: int) -> None:\n",
    "        \"\"\"\n",
    "        Do not return anything, modify nums1 in-place instead.\n",
    "        \"\"\"\n",
    "        p1 = m - 1\n",
    "        p2 = n - 1\n",
    "        p = m + n - 1\n",
    "\n",
    "        while p1 >= 0 and p2 >= 0:\n",
    "            if nums1[p1] < nums2[p2]:\n",
    "                nums1[p] = nums2[p2]\n",
    "                p2 -= 1\n",
    "            else:\n",
    "                nums1[p] = nums1[p1]\n",
    "                p1 -= 1\n",
    "\n",
    "            p -= 1\n",
    "\n",
    "        nums1[: p2 + 1] = nums2[: p2 + 1]\n",
    "        print(nums1)\n",
    "\n",
    "\n",
    "Solution().merge([1], 1, [], 0)\n",
    "Solution().merge([0], 0, [1], 1)\n",
    "Solution().merge([1, 2, 3, 0, 0, 0], 3, [2, 5, 6], 3)"
   ]
  }
 ],
 "metadata": {
  "kernelspec": {
   "display_name": ".venv",
   "language": "python",
   "name": "python3"
  },
  "language_info": {
   "codemirror_mode": {
    "name": "ipython",
    "version": 3
   },
   "file_extension": ".py",
   "mimetype": "text/x-python",
   "name": "python",
   "nbconvert_exporter": "python",
   "pygments_lexer": "ipython3",
   "version": "3.10.6"
  },
  "orig_nbformat": 4
 },
 "nbformat": 4,
 "nbformat_minor": 2
}
