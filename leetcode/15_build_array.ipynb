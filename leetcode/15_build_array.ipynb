{
 "cells": [
  {
   "attachments": {},
   "cell_type": "markdown",
   "metadata": {},
   "source": [
    "### 1920. Построить массив из перестановки"
   ]
  },
  {
   "attachments": {},
   "cell_type": "markdown",
   "metadata": {},
   "source": [
    "Учитывая перестановку с отсчетом от нуля nums (0-indexed), создайте массив ans той же длины где ans[i] = nums[nums[i]] для каждого 0 <= i < nums.lengthи верните его.\n",
    "\n",
    "Перестановка с отсчетом от нуля nums представляет собой массив различных целых чисел от 0 до nums.length - 1 (включительно)."
   ]
  },
  {
   "attachments": {},
   "cell_type": "markdown",
   "metadata": {},
   "source": [
    "Example 1:\n",
    "\n",
    "Input: nums = [0,2,1,5,3,4]\n",
    "Output: [0,1,2,4,5,3]\n",
    "Explanation: The array ans is built as follows: \n",
    "ans = [nums[nums[0]], nums[nums[1]], nums[nums[2]], nums[nums[3]], nums[nums[4]], nums[nums[5]]]\n",
    "    = [nums[0], nums[2], nums[1], nums[5], nums[3], nums[4]]\n",
    "    = [0,1,2,4,5,3]\n",
    "Example 2:\n",
    "\n",
    "Input: nums = [5,0,1,2,3,4]\n",
    "Output: [4,5,0,1,2,3]\n",
    "Explanation: The array ans is built as follows:\n",
    "ans = [nums[nums[0]], nums[nums[1]], nums[nums[2]], nums[nums[3]], nums[nums[4]], nums[nums[5]]]\n",
    "    = [nums[5], nums[0], nums[1], nums[2], nums[3], nums[4]]\n",
    "    = [4,5,0,1,2,3]"
   ]
  },
  {
   "cell_type": "code",
   "execution_count": 8,
   "metadata": {},
   "outputs": [
    {
     "data": {
      "text/plain": [
       "[0, 3, 5, 1, 4, 2, 6, 7, 8]"
      ]
     },
     "execution_count": 8,
     "metadata": {},
     "output_type": "execute_result"
    }
   ],
   "source": [
    "# from typing import List\n",
    "\n",
    "class Solution:\n",
    "    def build_array(self, nums: list[int]) -> list[int]:\n",
    "        return list(map(lambda n : nums[nums[n]], range(len(nums))))\n",
    "    \n",
    "Solution().build_array([8,5,1,2,4,3,6,7,0])"
   ]
  }
 ],
 "metadata": {
  "kernelspec": {
   "display_name": ".venv",
   "language": "python",
   "name": "python3"
  },
  "language_info": {
   "codemirror_mode": {
    "name": "ipython",
    "version": 3
   },
   "file_extension": ".py",
   "mimetype": "text/x-python",
   "name": "python",
   "nbconvert_exporter": "python",
   "pygments_lexer": "ipython3",
   "version": "3.10.6"
  },
  "orig_nbformat": 4
 },
 "nbformat": 4,
 "nbformat_minor": 2
}
