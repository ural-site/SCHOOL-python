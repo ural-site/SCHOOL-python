{
 "cells": [
  {
   "attachments": {},
   "cell_type": "markdown",
   "metadata": {},
   "source": [
    "### 383. Ransom Note\n",
    "\n",
    "Выкуп записка\n"
   ]
  },
  {
   "attachments": {},
   "cell_type": "markdown",
   "metadata": {},
   "source": [
    "Имея две строки ransomNote и magazine, верните true, если ransomNote можно построить, используя буквы от magazine и false в противном случае.\n",
    "\n",
    "Каждая буква в magazine может быть использована только один раз в ransomNote.\n",
    "\n",
    "\n",
    "Example 1:\n",
    "\n",
    "Input: ransomNote = \"a\", magazine = \"b\"\n",
    "\n",
    "Output: false\n",
    "\n",
    "\n",
    "Example 2:\n",
    "\n",
    "Input: ransomNote = \"aa\", magazine = \"ab\"\n",
    "\n",
    "Output: false\n",
    "\n",
    "\n",
    "Example 3:\n",
    "\n",
    "Input: ransomNote = \"aa\", magazine = \"aab\"\n",
    "\n",
    "Output: true"
   ]
  },
  {
   "cell_type": "code",
   "execution_count": 22,
   "metadata": {},
   "outputs": [
    {
     "data": {
      "text/plain": [
       "True"
      ]
     },
     "execution_count": 22,
     "metadata": {},
     "output_type": "execute_result"
    }
   ],
   "source": [
    "class Solution:\n",
    "    def can_construct(self, ransomNote: str, magazine: str) -> bool:\n",
    "        if not ransomNote or not magazine:\n",
    "            return False\n",
    "        l = list(s for s in magazine)\n",
    "        for r in ransomNote:\n",
    "            if l.count(r) == 0:\n",
    "                return False\n",
    "            l.remove(r)\n",
    "        return True\n",
    "    \n",
    "\n",
    "ransomNote = \"b\"\n",
    "magazine = \"aabb\"\n",
    "\n",
    "Solution().can_construct(ransomNote, magazine)"
   ]
  },
  {
   "attachments": {},
   "cell_type": "markdown",
   "metadata": {},
   "source": [
    "### Решения\n",
    "\n",
    "Counter - возвращает количество каждого элемента, например «aabc» -> «a»: 2, «b»: 1, «c»: 1\n",
    "Таким образом, в основном он вернет разницу между вхождениями каждого символа.\n",
    "Пример: предположим,\n",
    "st1 = Counter({'d': 1, 'e': 1, 'r': 1, 'o': 1})\n",
    "st2 = Counter({'d': 2, 'i': 2, 'o': 2, 'g': 1, 'e': 1, 'r': 1}), \n",
    "\n",
    "Затем мы проверяем, равно ли пересечение объектов note и mag Counter объекту note Counter. Мы делаем это с помощью побитового оператора AND (&). \n",
    "\n",
    "Пересечение двух объектов Counter — это еще один объект Counter, который содержит общие ключи и минимальное значение каждого объекта в качестве значения ключа.\n",
    "\n",
    "& - это пересечение счетчиков:  min(c[x], d[x])\n",
    "\n",
    "поэтому st1 и st2 вернут Counter({'d': 1, 'e': 1, ' r': 1, 'o': 1}), поэтому, если st1 & st2 == st1, будет означать, что st1 может быть образован из st1."
   ]
  },
  {
   "cell_type": "code",
   "execution_count": 26,
   "metadata": {},
   "outputs": [
    {
     "data": {
      "text/plain": [
       "True"
      ]
     },
     "execution_count": 26,
     "metadata": {},
     "output_type": "execute_result"
    }
   ],
   "source": [
    "from collections import Counter\n",
    "\n",
    "\n",
    "class Solution(object):\n",
    "    def canConstruct(self, ransomNote, magazine):\n",
    "        st1, st2 = Counter(ransomNote), Counter(magazine)\n",
    "        if st1 & st2 == st1:\n",
    "            return True\n",
    "        return False\n",
    "\n",
    "\n",
    "ransomNote = \"abc\"\n",
    "magazine = \"aaaabbbbcccc\"\n",
    "\n",
    "Solution().canConstruct(ransomNote, magazine)"
   ]
  }
 ],
 "metadata": {
  "kernelspec": {
   "display_name": ".venv",
   "language": "python",
   "name": "python3"
  },
  "language_info": {
   "codemirror_mode": {
    "name": "ipython",
    "version": 3
   },
   "file_extension": ".py",
   "mimetype": "text/x-python",
   "name": "python",
   "nbconvert_exporter": "python",
   "pygments_lexer": "ipython3",
   "version": "3.10.6"
  },
  "orig_nbformat": 4
 },
 "nbformat": 4,
 "nbformat_minor": 2
}
