{
 "cells": [
  {
   "attachments": {},
   "cell_type": "markdown",
   "metadata": {},
   "source": [
    "### 26. Удалить дубликаты из отсортированного массива"
   ]
  },
  {
   "attachments": {},
   "cell_type": "markdown",
   "metadata": {},
   "source": [
    "Учитывая целочисленный массив, numsотсортированный в неубывающем порядке , удалите дубликаты на месте , чтобы каждый уникальный элемент появлялся только один раз . Относительный порядок элементов должен быть сохранен . Затем верните количество уникальных элементов вnums .\n",
    "\n",
    "Учитывайте количество уникальных элементов numsto be k, чтобы вас приняли, вам нужно сделать следующее:\n",
    "\n",
    "Измените массив numsтаким образом, чтобы первые kэлементы numsсодержали уникальные элементы в том порядке, в котором они присутствовали numsизначально. Остальные элементы numsне так важны, как и размер nums.\n",
    "Вернуться k.\n"
   ]
  },
  {
   "cell_type": "code",
   "execution_count": 1,
   "metadata": {},
   "outputs": [
    {
     "data": {
      "text/plain": [
       "5"
      ]
     },
     "execution_count": 1,
     "metadata": {},
     "output_type": "execute_result"
    }
   ],
   "source": [
    "from typing import List\n",
    "\n",
    "\n",
    "class Solution:\n",
    "    def remove_duplicates(self, nums: List[int]) -> int:\n",
    "        i = 0\n",
    "        while i < len(nums):\n",
    "            if i > 0 and nums[i] == nums[i - 1]:\n",
    "                nums.pop(i)\n",
    "            else:\n",
    "                i += 1           \n",
    "        return len(nums)\n",
    "    \n",
    "\n",
    "Solution().remove_duplicates([0,0,1,1,1,2,2,3,3,4])"
   ]
  },
  {
   "attachments": {},
   "cell_type": "markdown",
   "metadata": {},
   "source": [
    "#### Способ 1: сортировать на месте с помощью[:]"
   ]
  },
  {
   "cell_type": "code",
   "execution_count": 2,
   "metadata": {},
   "outputs": [],
   "source": [
    "def removeDuplicates(self, nums: List[int]) -> int:\n",
    "    nums[:] = sorted(set(nums))\n",
    "    return len(nums)"
   ]
  },
  {
   "attachments": {},
   "cell_type": "markdown",
   "metadata": {},
   "source": [
    "#### Способ 2: Двойные указатели"
   ]
  },
  {
   "attachments": {},
   "cell_type": "markdown",
   "metadata": {},
   "source": [
    "Используйте slow указатель, чтобы «заблокировать» «нужный» элемент, и используйте fastуказатель, чтобы двигаться вперед по списку и искать новые уникальные элементы в списке.\n",
    "Или, другими словами, текущий slowуказатель используется для поиска последнего уникального номера результатов, а также fastдля итерации и обнаружения.\n",
    "\n",
    "Продвинулись fastна каждой итерации, но slowпродвигаются только тогда, когда два указателя находятся на двух разных элементах.\n",
    "\n",
    "Это означает, что элементы после nums[slow]и до nums[fast]— это числа, которые мы видели раньше и которые больше не нужны (одна копия этих чисел уже сохранена перед текущей slow(включительно)).\n",
    "\n",
    "Следовательно, чтобы это вновь обнаруженное (невидимое) число указывало текущим fastна начало массива для окончательного ответа, нам просто нужно поменять местами это вновь обнаруженное число на место, следующее за текущим slowуказателем, с одним из увиденные числа (нам это все равно не нужно для ответа), а затем продвинуться в slowтой же итерации, чтобы заблокировать этот новый номер."
   ]
  },
  {
   "cell_type": "code",
   "execution_count": null,
   "metadata": {},
   "outputs": [],
   "source": [
    "class Solution:\n",
    "    def removeDuplicates(self, nums: List[int]) -> int:\n",
    "        slow, fast = 0, 1\n",
    "        while fast in range(len(nums)):\n",
    "            if nums[slow] == nums[fast]:\n",
    "                fast += 1\n",
    "            else:\n",
    "                nums[slow+1] = nums[fast]\n",
    "                fast += 1\n",
    "                slow += 1\n",
    "\n",
    "        return slow + 1\n",
    "\n"
   ]
  }
 ],
 "metadata": {
  "kernelspec": {
   "display_name": ".venv",
   "language": "python",
   "name": "python3"
  },
  "language_info": {
   "codemirror_mode": {
    "name": "ipython",
    "version": 3
   },
   "file_extension": ".py",
   "mimetype": "text/x-python",
   "name": "python",
   "nbconvert_exporter": "python",
   "pygments_lexer": "ipython3",
   "version": "3.10.6"
  },
  "orig_nbformat": 4
 },
 "nbformat": 4,
 "nbformat_minor": 2
}
