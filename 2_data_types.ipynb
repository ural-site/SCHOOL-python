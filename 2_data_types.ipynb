{
    "cells": [
        {
            "cell_type": "markdown",
            "source": [
                "# Изучение Python. Основы. Типы данных."
            ],
            "metadata": {}
        },
        {
            "cell_type": "markdown",
            "source": [
                "По одной из классификаций все типы данных в Python делятся на атомарные и ссылочные.\n",
                "\n",
                "Атомарные: \n",
                "числа;\n",
                "строки;\n",
                "\n",
                "\n",
                "Ссылочные: \n",
                "списки;\n",
                "кортежи;\n",
                "словари;\n",
                "функции;\n",
                "классы;\n",
                "\n",
                "Атомарные объекты, при их присваивании, передаются по значению, а ссылочные –  по ссылке."
            ],
            "metadata": {}
        },
        {
            "cell_type": "markdown",
            "source": [
                "None\n",
                "\n",
                "bool - Булев тип\n",
                "\n",
                "int - целые числа\n",
                "\n",
                "float - числа с плавающей точкой\n",
                "\n",
                "complex - комплексные числа\n",
                "\n",
                "str - строки, «сырые» строки, строки в тройных кавычках"
            ],
            "metadata": {}
        },
        {
            "cell_type": "markdown",
            "source": [
                "## Определение типа данных"
            ],
            "metadata": {}
        },
        {
            "cell_type": "markdown",
            "source": [
                "Функции type() и isinstance()\n",
                "В отличие от type(), функция isinstance() возвращает не тип данных аргумента, а булево значение, говорящее о том, принадлежит объект к определенному классу или нет. А ещё isinstance() умеет проверять принадлежность объекта хотя к одному типу из кортежа, переданного в качестве второго аргумента:"
            ],
            "metadata": {}
        },
        {
            "cell_type": "code",
            "execution_count": null,
            "source": [
                "num = 4.44\n",
                "print(isinstance(num, float))\n",
                "\n",
                "name = 'Ash'\n",
                "print(isinstance(name, (float, int, complex)))\n",
                "\n",
                "print(isinstance(name, (float, int, complex, str)))"
            ],
            "outputs": [],
            "metadata": {}
        },
        {
            "cell_type": "markdown",
            "source": [
                "Важным отличием также является то, что isinstance() \"знает\" о наследовании. Функция воспринимает объект производного класса, как объект базового."
            ],
            "metadata": {}
        },
        {
            "cell_type": "markdown",
            "source": [],
            "metadata": {}
        },
        {
            "cell_type": "markdown",
            "source": [
                "## None"
            ],
            "metadata": {}
        },
        {
            "cell_type": "markdown",
            "source": [
                "None – специальный объект внутри Питона. Он означает пустоту, всегда считается \"Ложью\" и может рассматриваться в качестве аналога NULL для языка C/С++. Помимо этого, None возвращается функциями, как объект по умолчанию."
            ],
            "metadata": {}
        },
        {
            "cell_type": "code",
            "execution_count": null,
            "source": [
                "null = None\n",
                "\n",
                "print(type(null))"
            ],
            "outputs": [],
            "metadata": {}
        },
        {
            "cell_type": "markdown",
            "source": [
                "## Булев тип (bool)"
            ],
            "metadata": {}
        },
        {
            "cell_type": "code",
            "execution_count": null,
            "source": [
                "my_bool1 = True\n",
                "my_bool2 = False\n",
                "\n",
                "print(type(True), type(False), type(my_bool1), type(my_bool2))"
            ],
            "outputs": [],
            "metadata": {}
        },
        {
            "cell_type": "markdown",
            "source": [
                "## Целые числа (int)"
            ],
            "metadata": {}
        },
        {
            "cell_type": "markdown",
            "source": [
                "Python интерпретирует последовательность десятичных цифр без префикса как десятичное число.\n",
                "\n",
                "\n",
                "0b (ноль + «b» в нижнем регистре)\n",
                "0B (ноль + «b» в верхнем регистре)\tДвоичное\t2\n",
                "\n",
                "\n",
                "0o (ноль + «o» в нижнем регистре)\n",
                "0O (ноль + «O» в верхнем регистре)\tВосьмеричное\t8\n",
                "\n",
                "\n",
                "0x (ноль + «x» в нижнем регистре)\n",
                "0X (ноль + «X» в верхнем регистре)\tШестнадцатеричное\t16"
            ],
            "metadata": {}
        },
        {
            "cell_type": "code",
            "execution_count": null,
            "source": [
                "print(10)\n",
                "print(0b10)\n",
                "print(0o10)\n",
                "print(0x10)\n",
                "\n",
                "print(type(10), type(0b10), type(0o10), type(0x10))"
            ],
            "outputs": [],
            "metadata": {}
        },
        {
            "cell_type": "markdown",
            "source": [
                "## Числа с плавающей точкой (float)"
            ],
            "metadata": {}
        },
        {
            "cell_type": "code",
            "execution_count": null,
            "source": [
                "type(4.2)"
            ],
            "outputs": [],
            "metadata": {}
        },
        {
            "cell_type": "markdown",
            "source": [
                "## Строки (str)"
            ],
            "metadata": {}
        },
        {
            "cell_type": "markdown",
            "source": [
                "Строки являются последовательностями. См. отдельный файл.\n",
                "Последовательности - понятие из математики. Там, последовательность – есть нумерованный набор элементов, в котором возможны их повторения, а порядок имеет значение. Определение Питона схоже с математическим: здесь последовательностью зовётся упорядоченная коллекция объектов.\n",
                "\n",
                "\n",
                "Строка — это последовательность односимвольных строк."
            ],
            "metadata": {}
        },
        {
            "cell_type": "code",
            "execution_count": null,
            "source": [
                "my_str1 = 'String 1'\n",
                "my_str2 = \"String 2\"\n",
                "\n",
                "print(my_str1[2:4])\n",
                "print(my_str1[:2])\n",
                "print(my_str1[4:])\n",
                "print(my_str1[::-1]) # Перевернуть строку\n",
                "\n",
                "print('Alexey Valerievich'[::-1])"
            ],
            "outputs": [],
            "metadata": {}
        },
        {
            "cell_type": "markdown",
            "source": [
                "## range object (a type of iterable)"
            ],
            "metadata": {}
        },
        {
            "cell_type": "markdown",
            "source": [
                "Крутая особенность языка Python состоит в наличии в нём встроенной функции range(), которая способна генерировать непрерывную последовательность целых чисел:"
            ],
            "metadata": {}
        },
        {
            "cell_type": "code",
            "execution_count": 13,
            "source": [
                "r = range(10)\n",
                "print(r)\n",
                "\n",
                "for i in r:\n",
                "    print(i, end=' ')"
            ],
            "outputs": [
                {
                    "output_type": "stream",
                    "name": "stdout",
                    "text": [
                        "range(0, 10)\n",
                        "0 1 2 3 4 5 6 7 8 9 "
                    ]
                }
            ],
            "metadata": {}
        },
        {
            "cell_type": "markdown",
            "source": [],
            "metadata": {}
        },
        {
            "cell_type": "markdown",
            "source": [],
            "metadata": {}
        },
        {
            "cell_type": "markdown",
            "source": [],
            "metadata": {}
        },
        {
            "cell_type": "markdown",
            "source": [],
            "metadata": {}
        },
        {
            "cell_type": "markdown",
            "source": [],
            "metadata": {}
        }
    ],
    "metadata": {
        "orig_nbformat": 4,
        "language_info": {
            "name": "python",
            "version": "3.9.7",
            "mimetype": "text/x-python",
            "codemirror_mode": {
                "name": "ipython",
                "version": 3
            },
            "pygments_lexer": "ipython3",
            "nbconvert_exporter": "python",
            "file_extension": ".py"
        },
        "kernelspec": {
            "name": "python3",
            "display_name": "Python 3.9.7 64-bit ('venv': venv)"
        },
        "interpreter": {
            "hash": "f55bb882a6bec8e12e28c7b04ad609be803a922fe6e405d345af5d65766d64b4"
        }
    },
    "nbformat": 4,
    "nbformat_minor": 2
}