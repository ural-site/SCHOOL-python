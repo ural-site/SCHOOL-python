{
    "cells": [
        {
            "attachments": {},
            "cell_type": "markdown",
            "metadata": {},
            "source": [
                "# Ввод, вывод"
            ]
        },
        {
            "attachments": {},
            "cell_type": "markdown",
            "metadata": {},
            "source": [
                "### Чтение и запись файлов"
            ]
        },
        {
            "attachments": {},
            "cell_type": "markdown",
            "metadata": {},
            "source": [
                "open()возвращает файловый объект и чаще всего используется с двумя позиционными аргументами и одним аргументом ключевого слова: open(filename, mode, encoding=None)"
            ]
        },
        {
            "cell_type": "code",
            "execution_count": null,
            "metadata": {},
            "outputs": [],
            "source": [
                "f = open('workfile', 'w', encoding=\"utf-8\")"
            ]
        },
        {
            "attachments": {},
            "cell_type": "markdown",
            "metadata": {},
            "source": [
                "Хорошей практикой является использование withключевого слова при работе с файловыми объектами. Преимущество заключается в том, что файл корректно закрывается после завершения работы с ним, даже если в какой-то момент возникнет исключение. Использование with также намного короче, чем написание эквивалентных try блоков finally.\n",
                "\n",
                "Если вы не используете withключевое слово, вам следует позвонить f.close(), чтобы закрыть файл и немедленно освободить все используемые им системные ресурсы."
            ]
        },
        {
            "cell_type": "code",
            "execution_count": null,
            "metadata": {},
            "outputs": [],
            "source": [
                "with open('workfile', encoding=\"utf-8\") as f:\n",
                "    read_data = f.read()\n",
                "    \n",
                "f.closed"
            ]
        },
        {
            "attachments": {},
            "cell_type": "markdown",
            "metadata": {},
            "source": [
                "### Рабора с JSON"
            ]
        },
        {
            "attachments": {},
            "cell_type": "markdown",
            "metadata": {},
            "source": [
                "Если у вас есть объект x, вы можете просмотреть его строковое представление JSON с помощью простой строки кода:"
            ]
        },
        {
            "cell_type": "code",
            "execution_count": 2,
            "metadata": {},
            "outputs": [
                {
                    "data": {
                        "text/plain": [
                            "'[1, \"simple\", \"list\"]'"
                        ]
                    },
                    "execution_count": 2,
                    "metadata": {},
                    "output_type": "execute_result"
                }
            ],
            "source": [
                "import json\n",
                "x = [1, 'simple', 'list']\n",
                "json.dumps(x)"
            ]
        },
        {
            "attachments": {},
            "cell_type": "markdown",
            "metadata": {},
            "source": [
                "Другой вариант функции dumps(), называемый dump(), просто сериализует объект в текстовый файл. Итак, если f объект текстового файла открыт для записи, мы можем сделать это:"
            ]
        },
        {
            "cell_type": "code",
            "execution_count": null,
            "metadata": {},
            "outputs": [],
            "source": [
                "json.dump(x, f)"
            ]
        },
        {
            "attachments": {},
            "cell_type": "markdown",
            "metadata": {},
            "source": [
                "Для повторного декодирования объекта, если он f является двоичным файлом или объектом текстового файла, который был открыт для чтения:"
            ]
        },
        {
            "cell_type": "code",
            "execution_count": null,
            "metadata": {},
            "outputs": [],
            "source": [
                "x = json.load(f)"
            ]
        },
        {
            "attachments": {},
            "cell_type": "markdown",
            "metadata": {},
            "source": [
                "Этот простой метод сериализации может работать со списками и словарями, но сериализация экземпляров произвольного класса в JSON требует дополнительных усилий. Справочник по json модулю содержит объяснение этого."
            ]
        }
    ],
    "metadata": {
        "interpreter": {
            "hash": "f55bb882a6bec8e12e28c7b04ad609be803a922fe6e405d345af5d65766d64b4"
        },
        "kernelspec": {
            "display_name": "Python 3.9.7 64-bit ('venv': venv)",
            "name": "python3"
        },
        "language_info": {
            "codemirror_mode": {
                "name": "ipython",
                "version": 3
            },
            "file_extension": ".py",
            "mimetype": "text/x-python",
            "name": "python",
            "nbconvert_exporter": "python",
            "pygments_lexer": "ipython3",
            "version": "3.10.6"
        },
        "orig_nbformat": 4
    },
    "nbformat": 4,
    "nbformat_minor": 2
}
