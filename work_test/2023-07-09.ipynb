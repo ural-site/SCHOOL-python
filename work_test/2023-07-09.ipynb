{
 "cells": [
  {
   "cell_type": "markdown",
   "metadata": {},
   "source": [
    "### Python"
   ]
  },
  {
   "cell_type": "markdown",
   "metadata": {},
   "source": [
    "1.1. Какой вывод мы получим в консоли https://pastebin.com/wWBrepfQ ? Как бы исправили метод update_dict?"
   ]
  },
  {
   "cell_type": "markdown",
   "metadata": {},
   "source": [
    "1.2. Нас интересуют некоторые бренды на ОЗОН и мы хотим периодически отслеживать ассортимент и цены на них. Для этих целей написали небольшой скрипт https://pastebin.com/RXynXwJS . Каким образом можно ускорить работу данного скрипта?"
   ]
  },
  {
   "cell_type": "markdown",
   "metadata": {},
   "source": [
    "1.3. У нас есть робокошка https://pastebin.com/C6N5geWe :) Как в итоге она будет разговаривать - как Robot или как Animal? Почему это происходит? Можем ли мы поменять это поведение, не меняя методов?"
   ]
  },
  {
   "cell_type": "markdown",
   "metadata": {},
   "source": [
    "1.4. https://pastebin.com/vygdvbnJ  что мы увидим в результате и почему? Как сделать так, чтобы изменения, вносимые в первый список (first_list), не затрагивали второй (second_list)?"
   ]
  },
  {
   "cell_type": "markdown",
   "metadata": {},
   "source": [
    "1.5. https://pastebin.com/7zBJHVCm что выведет следующий код и почему? Перепишите функцию так, чтобы её поведение было корректным."
   ]
  },
  {
   "cell_type": "markdown",
   "metadata": {},
   "source": [
    "### Django"
   ]
  },
  {
   "cell_type": "markdown",
   "metadata": {},
   "source": [
    "2.1. Как можно улучшить django-код https://pastebin.com/fcakA11R ? С помощью чего можно обнаружить подобное поведение?"
   ]
  },
  {
   "cell_type": "markdown",
   "metadata": {},
   "source": [
    "2.2.  Как можно улучшить django-код https://pastebin.com/NEYwXY7Y ?"
   ]
  },
  {
   "cell_type": "markdown",
   "metadata": {},
   "source": [
    "2.3. Как извлечь Query Set с частью полей модели? Элементы внутри QuerySet должны сохранить вид объектов, а не трансформироваться в список или кортеж."
   ]
  },
  {
   "cell_type": "markdown",
   "metadata": {},
   "source": [
    "2.5. Можно ли использовать assert для проверки бизнес-логики? Если да, то в каких случаях? Если нет, то почему?"
   ]
  },
  {
   "cell_type": "markdown",
   "metadata": {},
   "source": [
    "2.6. У нас есть небольшое веб-приложение \"Библиотека\", в базе которого мы храним книги с информацией об авторах и языках, на которые эти книги были переведены https://pastebin.com/gpgT4JCv . Требуется  написать миграцию, которая добавит информацию о том, что все книги авторов Аркадий Стругацкий, Борис Стругацкий (авторы и их книги уже есть у нас в базе) были переведены на Суахили (язык уже есть в базе)."
   ]
  },
  {
   "cell_type": "markdown",
   "metadata": {},
   "source": [
    "2.7. Ответьте на вопрос https://pastebin.com/SH4CKd48 ."
   ]
  }
 ],
 "metadata": {
  "language_info": {
   "name": "python"
  },
  "orig_nbformat": 4
 },
 "nbformat": 4,
 "nbformat_minor": 2
}
