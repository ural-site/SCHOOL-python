{
    "cells": [
        {
            "cell_type": "markdown",
            "source": [
                "# Изучение Python\n",
                "\n",
                "## Основы. Строки."
            ],
            "metadata": {}
        },
        {
            "cell_type": "markdown",
            "source": [
                "### Объединение строковых констант"
            ],
            "metadata": {}
        },
        {
            "cell_type": "code",
            "execution_count": null,
            "source": [
                "# Объединение строк в тексте\n",
                "a = 'Это длинная строка, \\\n",
                "это ее продолжение на новой строке \\\n",
                "и еще продложение'\n",
                "\n",
                "print(a)"
            ],
            "outputs": [],
            "metadata": {}
        },
        {
            "cell_type": "code",
            "execution_count": null,
            "source": [
                "# Объединение строк в коде\n",
                "a = 1 + 2 + 3 + 4 + \\\n",
                "    5 + 6 + 7 + 8 - \\\n",
                "    9 - 10 * 6 \\\n",
                "    + 7 + 22\n",
                "\n",
                "print(a)\n"
            ],
            "outputs": [],
            "metadata": {}
        },
        {
            "cell_type": "markdown",
            "source": [
                "### Метод format\n",
                "С синтаксисом метода __format__  можно ознакомиться подробнее тут: https://pythonworld.ru/osnovy/formatirovanie-strok-metod-format.html"
            ],
            "metadata": {}
        },
        {
            "cell_type": "code",
            "execution_count": null,
            "source": [
                "age = 26\n",
                "name = 'Alexey'\n",
                "\n",
                "mystr = 'Меня зовут {0}. Мне {1} лет.'.format(name, age)\n",
                "print(mystr)\n",
                "\n",
                "mystr = 'Меня зовут {}. Мне {} лет.'.format(name, age)\n",
                "print(mystr)"
            ],
            "outputs": [],
            "metadata": {}
        },
        {
            "cell_type": "code",
            "execution_count": null,
            "source": [
                "# Десятичное число (.) с точностью в 3 знака для плавающих:\n",
                "myfloat = 3.3456789\n",
                "mystr = 'Цена: {0:.3}'.format(myfloat)\n",
                "print(mystr)\n",
                "\n",
                "# Заполнить подчеркиваниями (_) с центровкой текста (^) по ширине 11:\n",
                "mystr = '{0:_^11}'.format('hello')\n",
                "print(mystr)\n",
                "\n",
                "# По ключевым словам\n",
                "mystr = '{name} начал изучать Пайтон в {year} году'.format(name='Alexey', year='2021')\n",
                "print(mystr)"
            ],
            "outputs": [],
            "metadata": {}
        },
        {
            "cell_type": "markdown",
            "source": [
                "__Примеры__"
            ],
            "metadata": {}
        },
        {
            "cell_type": "code",
            "execution_count": null,
            "source": [
                "print(\n",
                "    '{2}, {1}, {0}'.format('a', 'b', 'c'),\n",
                "    '{2}, {1}, {0}'.format(*'abc'),\n",
                "    '{0}{1}{0}'.format('abra', 'cad'),\n",
                "    sep='\\n')\n",
                "\n",
                "coord = {'latitude': '37.24N', 'longitude': '-115.81W'}\n",
                "print('Coordinates: {latitude}, {longitude}'.format(**coord))"
            ],
            "outputs": [],
            "metadata": {}
        },
        {
            "cell_type": "markdown",
            "source": [
                "### f-строки\n",
                "https://python-scripts.com/f-strings"
            ],
            "metadata": {}
        },
        {
            "cell_type": "code",
            "execution_count": null,
            "source": [
                "name = \"Eric\"\n",
                "age = 74\n",
                "\n",
                "print(f\"Hello, {name}. You are {age}.\")\n",
                "# Или\n",
                "print(F\"Hello, {name}. You are {age}.\")"
            ],
            "outputs": [],
            "metadata": {}
        },
        {
            "cell_type": "code",
            "execution_count": null,
            "source": [
                "# Производльные выражения\n",
                "print(f\"{2 * 37}\")"
            ],
            "outputs": [],
            "metadata": {}
        },
        {
            "cell_type": "code",
            "execution_count": null,
            "source": [
                "# Также вы можете вызывать функции.\n",
                "def to_lowercase(input):\n",
                "    return input.lower()\n",
                "\n",
                "name = \"Eric Idle\"\n",
                "print(f\"{to_lowercase(name)} is funny.\")"
            ],
            "outputs": [],
            "metadata": {}
        },
        {
            "cell_type": "code",
            "execution_count": null,
            "source": [
                "# Вы даже можете использовать объекты, созданные из классов при помощи f-строки\n",
                "class Comedian:\n",
                "    def __init__(self, first_name, last_name, age):\n",
                "        self.first_name = first_name\n",
                "        self.last_name = last_name\n",
                "        self.age = age\n",
                "\n",
                "    def __str__(self):\n",
                "        return f\"{self.first_name} {self.last_name} is {self.age}.\"\n",
                "\n",
                "    def __repr__(self):\n",
                "        return f\"{self.first_name} {self.last_name} is {self.age}. Surprise!\"\n",
                "\n",
                "\n",
                "new_comedian = Comedian(\"Eric\", \"Idle\", \"74\")\n",
                "\n",
                "print(f\"{new_comedian}\")\n"
            ],
            "outputs": [],
            "metadata": {}
        },
        {
            "cell_type": "code",
            "execution_count": null,
            "source": [
                "# Многострочные F-Strings\n",
                "name = \"Eric\"\n",
                "profession = \"comedian\"\n",
                "affiliation = \"Monty Python\"\n",
                "\n",
                "message = (\n",
                "    f\"Hi {name}. \"\n",
                "    f\"You are a {profession}. \"\n",
                "    f\"You were in {affiliation}.\"\n",
                ")\n",
                "\n",
                "print(message)\n",
                "\n",
                "message = f\"Hi {name}. \" \\\n",
                "          f\"You are a {profession}. \" \\\n",
                "          f\"You were in {affiliation}.\"\n",
                "\n",
                "print(message)\n",
                "\n",
                "message = f\"\"\"\n",
                "    Hi {name}. \n",
                "    You are a {profession}. \n",
                "    You were in {affiliation}.\n",
                "\"\"\"\n",
                "\n",
                "print(message)"
            ],
            "outputs": [],
            "metadata": {}
        },
        {
            "cell_type": "code",
            "execution_count": null,
            "source": [
                "# Словари в f строках"
            ],
            "outputs": [],
            "metadata": {}
        },
        {
            "cell_type": "code",
            "execution_count": null,
            "source": [
                "comedian = {'name': 'Eric Idle', 'age': 74}\n",
                "\n",
                "print(f\"The comedian is {comedian['name']}, aged {comedian['age']}.\")"
            ],
            "outputs": [],
            "metadata": {}
        },
        {
            "cell_type": "code",
            "execution_count": null,
            "source": [],
            "outputs": [],
            "metadata": {}
        },
        {
            "cell_type": "code",
            "execution_count": null,
            "source": [],
            "outputs": [],
            "metadata": {}
        },
        {
            "cell_type": "code",
            "execution_count": null,
            "source": [],
            "outputs": [],
            "metadata": {}
        }
    ],
    "metadata": {
        "orig_nbformat": 4,
        "language_info": {
            "name": "python",
            "version": "3.9.7",
            "mimetype": "text/x-python",
            "codemirror_mode": {
                "name": "ipython",
                "version": 3
            },
            "pygments_lexer": "ipython3",
            "nbconvert_exporter": "python",
            "file_extension": ".py"
        },
        "kernelspec": {
            "name": "python3",
            "display_name": "Python 3.9.7 64-bit ('venv': venv)"
        },
        "interpreter": {
            "hash": "f55bb882a6bec8e12e28c7b04ad609be803a922fe6e405d345af5d65766d64b4"
        }
    },
    "nbformat": 4,
    "nbformat_minor": 2
}