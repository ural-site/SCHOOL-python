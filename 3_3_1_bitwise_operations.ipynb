{
 "cells": [
  {
   "attachments": {},
   "cell_type": "markdown",
   "metadata": {},
   "source": [
    "# Побитовые операторы"
   ]
  },
  {
   "attachments": {},
   "cell_type": "markdown",
   "metadata": {},
   "source": [
    "https://docs.python.org/3/library/stdtypes.html"
   ]
  },
  {
   "attachments": {},
   "cell_type": "markdown",
   "metadata": {},
   "source": [
    "В Python побитовые операторы используются для выполнения побитовых вычислений над целыми числами. Целые числа сначала преобразуются в двоичные, а затем над каждым битом или соответствующей парой битов выполняются операции, отсюда и название побитовых операторов. Затем результат возвращается в десятичном формате."
   ]
  },
  {
   "attachments": {},
   "cell_type": "markdown",
   "metadata": {},
   "source": [
    "x | y   - побитовое или x и y _\n",
    "\n",
    "x ^ y   - побитовое исключающее или x и y\n",
    "\n",
    "x & y   - побитовое и x и y _\n",
    "\n",
    "x << n  - x сдвигается влево на n бит\n",
    "\n",
    "x >> n  - x сдвинут вправо на n бит\n",
    "\n",
    "~x      - биты x перевернуты"
   ]
  },
  {
   "attachments": {},
   "cell_type": "markdown",
   "metadata": {},
   "source": [
    "### Примеры"
   ]
  },
  {
   "attachments": {},
   "cell_type": "markdown",
   "metadata": {},
   "source": [
    "#### Пример |"
   ]
  },
  {
   "cell_type": "code",
   "execution_count": null,
   "metadata": {},
   "outputs": [],
   "source": [
    "Побитовый оператор or Возвращает 1, если любой из бит равен 1, иначе 0.\n",
    "\n",
    "a = 10 = 1010 (Binary)\n",
    "b = 4 =  0100 (Binary)\n",
    "\n",
    "a | b = 1010\n",
    "         |\n",
    "        0100\n",
    "      = 1110\n",
    "      = 14 (Decimal)"
   ]
  },
  {
   "cell_type": "code",
   "execution_count": null,
   "metadata": {},
   "outputs": [],
   "source": [
    "a = 10\n",
    "b = 4\n",
    "\n",
    "print(a | b)"
   ]
  },
  {
   "attachments": {},
   "cell_type": "markdown",
   "metadata": {},
   "source": [
    "#### Пример &"
   ]
  },
  {
   "cell_type": "code",
   "execution_count": null,
   "metadata": {},
   "outputs": [],
   "source": [
    "Побитовый оператор И возвращает 1, если оба бита равны 1, иначе 0.\n",
    "\n",
    "a = 10 = 1010 (Binary)\n",
    "b = 4 =  0100 (Binary)\n",
    "\n",
    "a & b = 1010\n",
    "         &\n",
    "        0100\n",
    "      = 0000\n",
    "      = 0 (Decimal)"
   ]
  },
  {
   "cell_type": "code",
   "execution_count": null,
   "metadata": {},
   "outputs": [],
   "source": [
    "a = 10\n",
    "b = 4\n",
    "\n",
    "print(a & b)"
   ]
  },
  {
   "attachments": {},
   "cell_type": "markdown",
   "metadata": {},
   "source": [
    "#### Пример ^"
   ]
  },
  {
   "cell_type": "code",
   "execution_count": null,
   "metadata": {},
   "outputs": [],
   "source": [
    "Побитовый оператор xor: возвращает 1, если один из битов равен 1, а другой равен 0, иначе возвращает false.\n",
    "\n",
    "a = 10 = 1010 (двоичный) \n",
    "b = 4 = 0100 (двоичный) \n",
    "\n",
    "a ^ b = 1010 \n",
    "         ^ \n",
    "        0100 \n",
    "      = 1110 \n",
    "      = 14 (десятичный)"
   ]
  },
  {
   "cell_type": "code",
   "execution_count": null,
   "metadata": {},
   "outputs": [],
   "source": [
    "a = 10\n",
    "b = 4\n",
    "\n",
    "print(a ^ b)"
   ]
  },
  {
   "attachments": {},
   "cell_type": "markdown",
   "metadata": {},
   "source": [
    "#### Пример ~"
   ]
  },
  {
   "cell_type": "code",
   "execution_count": null,
   "metadata": {},
   "outputs": [],
   "source": [
    "# Print bitwise NOT operation\n",
    "print(\"~a =\", ~a)"
   ]
  },
  {
   "cell_type": "code",
   "execution_count": null,
   "metadata": {},
   "outputs": [],
   "source": [
    "# Python program to show\n",
    "# bitwise operators\n",
    " \n",
    "a = 10\n",
    "b = 4\n",
    " \n",
    "# Print bitwise AND operation\n",
    "print(\"a & b =\", a & b)\n",
    " \n",
    "# Print bitwise OR operation\n",
    "print(\"a | b =\", a | b)\n",
    " \n",
    "# Print bitwise NOT operation\n",
    "print(\"~a =\", ~a)\n",
    " \n",
    "# print bitwise XOR operation\n",
    "print(\"a ^ b =\", a ^ b)"
   ]
  },
  {
   "attachments": {},
   "cell_type": "markdown",
   "metadata": {},
   "source": [
    "### Операторы смены"
   ]
  },
  {
   "attachments": {},
   "cell_type": "markdown",
   "metadata": {},
   "source": [
    "Эти операторы используются для сдвига битов числа влево или вправо, таким образом умножая или деля число на два соответственно. Их можно использовать, когда нам нужно умножить или разделить число на два."
   ]
  },
  {
   "attachments": {},
   "cell_type": "markdown",
   "metadata": {},
   "source": [
    "#### Пример >> "
   ]
  },
  {
   "attachments": {},
   "cell_type": "markdown",
   "metadata": {},
   "source": [
    "Побитовый сдвиг вправо: сдвигает биты числа вправо и в результате заполняет 0 пустых мест слева (заполняет 1 в случае отрицательного числа). Эффект аналогичен делению числа на степень двойки."
   ]
  },
  {
   "cell_type": "code",
   "execution_count": null,
   "metadata": {},
   "outputs": [],
   "source": [
    "Пример 1: \n",
    "a = 10 = 0000 1010 (Двоичный) \n",
    "a >> 1 = 0000 0101 = 5 \n",
    "\n",
    "Пример 2: \n",
    "a = -10 = 1111 0110 (Двоичный) \n",
    "a >> 1 = 1111 1011 = -5"
   ]
  },
  {
   "cell_type": "code",
   "execution_count": null,
   "metadata": {},
   "outputs": [],
   "source": [
    "a = 10\n",
    "\n",
    "print(a >> 1)"
   ]
  },
  {
   "attachments": {},
   "cell_type": "markdown",
   "metadata": {},
   "source": [
    "#### Пример <<"
   ]
  },
  {
   "attachments": {},
   "cell_type": "markdown",
   "metadata": {},
   "source": [
    "Побитовый сдвиг влево: сдвигает биты числа влево и в результате заполняет 0 пробелов справа. Эффект аналогичен умножению числа на степень двойки."
   ]
  },
  {
   "cell_type": "code",
   "execution_count": null,
   "metadata": {},
   "outputs": [],
   "source": [
    "Пример 1: \n",
    "a = 5 = 0000 0101 (Двоичный) \n",
    "a << 1 = 0000 1010 = 10 \n",
    "a << 2 = 0001 0100 = 20 \n",
    "\n",
    "Пример 2: \n",
    "b = -10 = 1111 0110 (Двоичный) \n",
    "b << 1 = 1110 1100 = -20 \n",
    "б << 2 = 1101 1000 = -40"
   ]
  },
  {
   "cell_type": "code",
   "execution_count": null,
   "metadata": {},
   "outputs": [],
   "source": [
    "a = 10\n",
    "\n",
    "print(a << 1)\n",
    "print(a << 2)"
   ]
  },
  {
   "cell_type": "code",
   "execution_count": null,
   "metadata": {},
   "outputs": [],
   "source": [
    "\n",
    "# Python program to show\n",
    "# shift operators\n",
    " \n",
    "a = 10\n",
    "b = -10\n",
    " \n",
    "# print bitwise right shift operator\n",
    "print(\"a >> 1 =\", a >> 1)\n",
    "print(\"b >> 1 =\", b >> 1)\n",
    " \n",
    "a = 5\n",
    "b = -10\n",
    " \n",
    "# print bitwise left shift operator\n",
    "print(\"a << 1 =\", a << 1)\n",
    "print(\"b << 1 =\", b << 1)"
   ]
  },
  {
   "attachments": {},
   "cell_type": "markdown",
   "metadata": {},
   "source": [
    "100 >> 1  - целое число от деления 100 | 2\n",
    "\n",
    "50\n",
    "\n",
    "100 >> 2  - целое число от деления 100 | 2^2\n",
    "\n",
    "25\n",
    "\n",
    "100 >> 3  - целое число от деления 100 | 3^2\n",
    "\n",
    "12\n",
    "\n",
    "100 >> 4  - целое число от деления 100 | 4^2\n",
    "\n",
    "6"
   ]
  }
 ],
 "metadata": {
  "kernelspec": {
   "display_name": ".venv",
   "language": "python",
   "name": "python3"
  },
  "language_info": {
   "codemirror_mode": {
    "name": "ipython",
    "version": 3
   },
   "file_extension": ".py",
   "mimetype": "text/x-python",
   "name": "python",
   "nbconvert_exporter": "python",
   "pygments_lexer": "ipython3",
   "version": "3.10.6"
  },
  "orig_nbformat": 4
 },
 "nbformat": 4,
 "nbformat_minor": 2
}
