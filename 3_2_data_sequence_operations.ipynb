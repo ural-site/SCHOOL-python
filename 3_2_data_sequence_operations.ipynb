{
    "cells": [
        {
            "cell_type": "markdown",
            "source": [
                "# Изучение Python. Основы. Операции с последовательностями."
            ],
            "metadata": {}
        },
        {
            "cell_type": "markdown",
            "source": [
                "[1, 13, 42, -7, 5]         # список\n",
                "\n",
                "(1, 2, 3, 5)               # кортеж\n",
                "\n",
                "'привет'                   # строка\n",
                "\n",
                "b'hello'                   # строка байтов\n",
                "\n",
                "bytearray([100, 101, 102]) # массив байтов"
            ],
            "metadata": {}
        },
        {
            "cell_type": "markdown",
            "source": [
                "## Доступ по индексу"
            ],
            "metadata": {}
        },
        {
            "cell_type": "markdown",
            "source": [],
            "metadata": {}
        },
        {
            "cell_type": "code",
            "execution_count": null,
            "source": [
                "sequence = 'qwertyuiop'\n",
                "\n",
                "print(sequence[0], sequence[2], sequence[5])  # Получить значение элемента последовательности по ключу\n",
                "\n",
                "print(sequence[1:2:3]) # Получить срез\n",
                "# 1 - начальный элемент, если оставить пустым, то с 0 элемента\n",
                "# 2 - до конечного элемента, но не включая его. Если пусто - то до конца строки\n",
                "# 3 - шаг. Пусто или 1 - каждый 1 элемент, 2 - каждый второй элемент и т.д. -1 - каждый первый в обратном порядке\n",
                "\n",
                "print(sequence[:5])\n",
                "print(sequence[5:])\n",
                "print(sequence[1:6])\n",
                "print(sequence[:7:2])\n",
                "print(sequence[::-2])\n",
                "\n",
                "print(sequence[-3:])\n",
                "\n",
                "# Срез без ограничений с двух сторон включает все элементы исходной последовательности и создает ее копию:\n",
                "new_sequence = sequence[:]\n",
                "print(new_sequence)"
            ],
            "outputs": [],
            "metadata": {}
        },
        {
            "cell_type": "markdown",
            "source": [
                "Срез позволяет получить копию только изменяемой последовательности, а в случае с неизменяемой последовательностью возвращает ее саму. Ниже видно, что список из чисел это изменяемая последовательность, а строка неизменяемая и при сравнении ее копия не создается (объект один)."
            ],
            "metadata": {}
        },
        {
            "cell_type": "code",
            "execution_count": 31,
            "source": [
                "a = [1, 5, 13]\n",
                "a is a[:]"
            ],
            "outputs": [
                {
                    "output_type": "execute_result",
                    "data": {
                        "text/plain": [
                            "False"
                        ]
                    },
                    "metadata": {},
                    "execution_count": 31
                }
            ],
            "metadata": {}
        },
        {
            "cell_type": "code",
            "execution_count": 32,
            "source": [
                "s = 'привет'\n",
                "s is s[:]"
            ],
            "outputs": [
                {
                    "output_type": "execute_result",
                    "data": {
                        "text/plain": [
                            "True"
                        ]
                    },
                    "metadata": {},
                    "execution_count": 32
                }
            ],
            "metadata": {}
        },
        {
            "cell_type": "code",
            "execution_count": null,
            "source": [
                "b = b'hello'\n",
                "b is b[:]"
            ],
            "outputs": [],
            "metadata": {}
        },
        {
            "cell_type": "markdown",
            "source": [
                "Если срез последовательности используется слева от знака присваивания, то семантика совсем другая: вместо создания новой последовательности выполняется замена элементов среза на значение справа от знака присваивания:"
            ],
            "metadata": {}
        },
        {
            "cell_type": "code",
            "execution_count": null,
            "source": [
                "a = [1, 5, 13]\n",
                "a[:1] = [5, 6]\n",
                "print(a)\n",
                "\n",
                "a[:] = [-1]\n",
                "print(a)"
            ],
            "outputs": [],
            "metadata": {}
        },
        {
            "cell_type": "code",
            "execution_count": null,
            "source": [
                "a = [1, 5, 13]\n",
                "a[:] = [1, 2, 3, 4]\n",
                "print(a)\n",
                "print(a[::2])\n",
                "\n",
                "a[::2] = [-1, -1]\n",
                "print(a)\n",
                "\n",
                "a[::-1] = range(4)\n",
                "print(a)\n",
                "\n",
                "# При использовании среза с шагом, каждому значению среза должно соответствовать значение справа от знака присваивания, иначе возникает ошибка:\n",
                "a[::-1] = -1\n"
            ],
            "outputs": [],
            "metadata": {}
        },
        {
            "cell_type": "markdown",
            "source": [],
            "metadata": {}
        },
        {
            "cell_type": "code",
            "execution_count": null,
            "source": [
                "# Операция\tОписание\tРаботает с range?\n",
                "x in s\t# True, если в s есть элемент, равный x, иначе False\tда\n",
                "x not in s\t# False, если в s нет элемента, равного x, иначе True\tда\n",
                "s + t\t# конкатенация s и t\n",
                "s * n   # или n * s\tконкатенация s с собой n раз\n",
                "s[i]\t# i-ый элемент s, считая с 0\tда\n",
                "s[i:j]\t# срез s от i до j\tда\n",
                "s[i:j:k]# срез s от i до j с шагом k\tда\n",
                "len(s)\t# длина s\tда\n",
                "min(s)\t# наименьший элемент s\tда\n",
                "max(s)\t# наибольший элемент s\tда\n",
                "s.index(x[, i[, j]])\t# индекс первого вхождения x в s(начиная с i и заканчивая j)\tда\n",
                "s.count(x)\t# всего вхождений x в s\tда\n"
            ],
            "outputs": [],
            "metadata": {}
        },
        {
            "cell_type": "markdown",
            "source": [
                "Операции и методы, общие для изменяемых последовательностей, то есть, для list и bytearray:"
            ],
            "metadata": {}
        },
        {
            "cell_type": "code",
            "execution_count": null,
            "source": [
                "s[i] = x\t# замена i-го элемента s на x\n",
                "del s[i]\t# удаление i-го элемента из s\n",
                "s[i:j] = t\t# замена среза s от i до j на содержимое t\n",
                "del s[i:j]\t# то же, что и s[i:j] = []\n",
                "s[i:j:k] = t  # замена элементов s[i:j:k] на элементы t\n",
                "del s[i:j:k]  # удаление элементов s[i:j:k] из s\n",
                "s.append(x)\t# добавление x в конец последовательности(эквивалентно s[len(s):len(s)]=[x])\n",
                "s.clear()\t# удаление всех элементов из s(эквивалентно del s[:])\n",
                "s.copy()\t# создание поверхностной копии s(эквивалентно s[:])\n",
                "s.extend(t)\n",
                "# или\n",
                "s += t  # расширяет s содержимым t\n",
                "s *= n  # обновляет s его содержимым, повторенным n раз\n",
                "s.insert(i, x)  # вставляет x в s по индексу i(эквивалентно s[i:i]=[x])\n",
                "s.pop([i])  # извлекает элемент с индексом i и удаляет его из s\n",
                "s.remove(x)  # удаляет первое вхождение x в s\n",
                "s.reverse()  # меняет порядок элементов в s на обратный"
            ],
            "outputs": [],
            "metadata": {}
        },
        {
            "cell_type": "markdown",
            "source": [],
            "metadata": {}
        },
        {
            "cell_type": "markdown",
            "source": [],
            "metadata": {}
        },
        {
            "cell_type": "markdown",
            "source": [],
            "metadata": {}
        },
        {
            "cell_type": "markdown",
            "source": [],
            "metadata": {}
        },
        {
            "cell_type": "markdown",
            "source": [],
            "metadata": {}
        },
        {
            "cell_type": "markdown",
            "source": [],
            "metadata": {}
        },
        {
            "cell_type": "markdown",
            "source": [],
            "metadata": {}
        }
    ],
    "metadata": {
        "orig_nbformat": 4,
        "language_info": {
            "name": "python",
            "version": "3.9.7",
            "mimetype": "text/x-python",
            "codemirror_mode": {
                "name": "ipython",
                "version": 3
            },
            "pygments_lexer": "ipython3",
            "nbconvert_exporter": "python",
            "file_extension": ".py"
        },
        "kernelspec": {
            "name": "python3",
            "display_name": "Python 3.9.7 64-bit ('venv': venv)"
        },
        "interpreter": {
            "hash": "f55bb882a6bec8e12e28c7b04ad609be803a922fe6e405d345af5d65766d64b4"
        }
    },
    "nbformat": 4,
    "nbformat_minor": 2
}