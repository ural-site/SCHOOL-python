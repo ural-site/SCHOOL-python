{
    "cells": [
        {
            "cell_type": "markdown",
            "source": [
                "# Изучение Python. Основы. Операторы."
            ],
            "metadata": {}
        },
        {
            "cell_type": "markdown",
            "source": [
                "## Перечень операторов"
            ],
            "metadata": {}
        },
        {
            "cell_type": "code",
            "execution_count": null,
            "source": [
                "+     Сложение\n",
                "-     Вычитание\n",
                "*     Умножение\n",
                "**    Возведение в степень\n",
                "/     Деление\n",
                "//    Целочисленное деление\n",
                "%     Деление по модулю\n",
                "\n",
                "<<    Побитовый сдвиг влево\n",
                ">>    Побитовый сдвиг вправо\n",
                "&     Побитовое И \n",
                "|     Побитовое ИЛИ \n",
                "^     Побитовое ИСКЛЮЧИТЕЛЬНО ИЛИ \n",
                "~     Побитовое НЕ\n",
                "\n",
                "<     Меньше \n",
                ">     Больше     \n",
                "<=    Меньше или равно\n",
                ">=    Больше или равно\n",
                "==    Равно\n",
                "!=    Не равно\n",
                "not   Логическое НЕ \n",
                "and   Логическое И \n",
                "or    Логическое ИЛИ "
            ],
            "outputs": [],
            "metadata": {}
        },
        {
            "cell_type": "markdown",
            "source": [],
            "metadata": {}
        },
        {
            "cell_type": "markdown",
            "source": [
                "## Оператор условия if (если)"
            ],
            "metadata": {}
        },
        {
            "cell_type": "code",
            "execution_count": null,
            "source": [
                "number = 20\n",
                "guess = int(input('Введите число : '))\n",
                "\n",
                "if guess == number:\n",
                "    print('Вы угадали!')\n",
                "elif guess < number:\n",
                "    print('Нет, загаданное число немного больше этого.')\n",
                "else:\n",
                "    print('Нет, загаданное число немного меньше этого.')\n",
                "\n",
                "print('Завершено!')"
            ],
            "outputs": [],
            "metadata": {}
        },
        {
            "cell_type": "code",
            "execution_count": null,
            "source": [
                "if True:\n",
                "    print(True)\n",
                "\n",
                "if False:\n",
                "    print(None)"
            ],
            "outputs": [],
            "metadata": {}
        },
        {
            "cell_type": "markdown",
            "source": [
                "## Оператор цикла while (в то время как)"
            ],
            "metadata": {}
        },
        {
            "cell_type": "code",
            "execution_count": null,
            "source": [
                "number = 37\n",
                "running = True\n",
                "\n",
                "while running:\n",
                "    guess = int(input('Угадайте число!'))\n",
                "\n",
                "    if guess == number:\n",
                "        print('Вы угадали!')\n",
                "        running = False\n",
                "    elif guess < number:\n",
                "        print('Нет, загаданное число немного больше этого.')\n",
                "    else:\n",
                "        print('Нет, загаданное число немного меньше этого.')\n",
                "else:\n",
                "    print('Цикл while кончен.')\n",
                "\n",
                "print('Завершено')"
            ],
            "outputs": [],
            "metadata": {}
        },
        {
            "cell_type": "markdown",
            "source": [],
            "metadata": {}
        },
        {
            "cell_type": "markdown",
            "source": [
                "## Оператор цикла for (для)"
            ],
            "metadata": {}
        },
        {
            "cell_type": "code",
            "execution_count": null,
            "source": [
                "for i in range(1, 5):\n",
                "    print(i)\n",
                "else:\n",
                "    print('Цикл завершен!')"
            ],
            "outputs": [],
            "metadata": {}
        },
        {
            "cell_type": "markdown",
            "source": [
                "## Операторы циклов break, continue"
            ],
            "metadata": {}
        },
        {
            "cell_type": "code",
            "execution_count": null,
            "source": [
                "while True:\n",
                "    s = input('Введите что-нибудь : ')\n",
                "    if s == 'выход':\n",
                "        break\n",
                "    if len(s) < 3:\n",
                "        print('Слишком мало')\n",
                "        continue\n",
                "    print('введенная строка достаточной длины')\n",
                "\n",
                "print('Готово')"
            ],
            "outputs": [],
            "metadata": {}
        },
        {
            "cell_type": "markdown",
            "source": [],
            "metadata": {}
        }
    ],
    "metadata": {
        "orig_nbformat": 4,
        "language_info": {
            "name": "python",
            "version": "3.9.7",
            "mimetype": "text/x-python",
            "codemirror_mode": {
                "name": "ipython",
                "version": 3
            },
            "pygments_lexer": "ipython3",
            "nbconvert_exporter": "python",
            "file_extension": ".py"
        },
        "kernelspec": {
            "name": "python3",
            "display_name": "Python 3.9.7 64-bit ('venv': venv)"
        },
        "interpreter": {
            "hash": "f55bb882a6bec8e12e28c7b04ad609be803a922fe6e405d345af5d65766d64b4"
        }
    },
    "nbformat": 4,
    "nbformat_minor": 2
}