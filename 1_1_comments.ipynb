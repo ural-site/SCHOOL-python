{
 "cells": [
  {
   "attachments": {},
   "cell_type": "markdown",
   "metadata": {},
   "source": [
    "# Изучение Python. Основы. Комментарии."
   ]
  },
  {
   "attachments": {},
   "cell_type": "markdown",
   "metadata": {},
   "source": [
    "## Комментарии в Python"
   ]
  },
  {
   "cell_type": "code",
   "execution_count": null,
   "metadata": {},
   "outputs": [],
   "source": [
    "# Простой комментарий\n",
    "\n",
    "\"\"\" Многостраничный комментарий, ниже даны команды для VS Code\n",
    "    \n",
    "    CTRL+SHIFT+A - Закомментировать или раскомментировать блок\n",
    "    \n",
    "    CTRL+/       - Закомментировать или раскомментировать строку\n",
    "\"\"\""
   ]
  },
  {
   "attachments": {},
   "cell_type": "markdown",
   "metadata": {},
   "source": [
    "## Строки документации"
   ]
  },
  {
   "attachments": {},
   "cell_type": "markdown",
   "metadata": {},
   "source": [
    "https://zen.yandex.ru/media/nuancesprog/uchimsia-pisat-stroki-dokumentacii-v-python-5f4b67ba55bd8907005b2b27\n",
    "\n",
    "Строка документации — это однострочный или многострочный строковый литерал, разделенный тройными одинарными или двойными кавычками \"\"\"description\"\"\" в начале модуля, класса, метода или функции, который описывает, что делает функция.\n",
    "\n",
    "Только в случае, если это первый оператор в функции, он может быть распознан компилятором байт-кода Python и доступен как атрибуты объекта времени выполнения с помощью метода __doc__ или функции help()."
   ]
  },
  {
   "attachments": {},
   "cell_type": "markdown",
   "metadata": {},
   "source": [
    "__Лучшие практики__\n",
    "- Все модули, классы, методы и функции, включая конструктор __init__в пакетах, должны иметь строки документации.\n",
    "- Описания пишутся с заглавной буквы и включают пунктуацию в конце предложения.\n",
    "- Всегда окружайте строки документации двойными кавычками по три раза, как показано тут: \"\"\"Triple double quotes.\"\"\".\n",
    "- В конце докстринга пустая строка не ставится. "
   ]
  },
  {
   "cell_type": "code",
   "execution_count": null,
   "metadata": {},
   "outputs": [],
   "source": [
    "# Одностроковые\n",
    "def power(a, b):\n",
    "    \"\"\"Returns arg1 raised to power arg2.\"\"\"\n",
    "    return a**b"
   ]
  },
  {
   "attachments": {},
   "cell_type": "markdown",
   "metadata": {},
   "source": [
    "## Стиль Sphinx\n",
    "\n",
    "Многостроковые строки документации оформляются так, что первая строка как заголовок, далее перенос строки и описание и описание аргументов"
   ]
  },
  {
   "cell_type": "code",
   "execution_count": null,
   "metadata": {},
   "outputs": [],
   "source": [
    "# Многостроковые\n",
    "def multiply(a, b, c=0):\n",
    "    \"\"\"Return sum of multiplication of all arguments.\n",
    "\n",
    "    :param a: arg1\n",
    "    :type a: int\n",
    "    :param b: arg2\n",
    "    :type b: int\n",
    "    :param c: arg3, defaults to 0\n",
    "    :type c: int, optional\n",
    "    :raises ValueError: if arg1 is equal to arg2\n",
    "\n",
    "    :rtype: int\n",
    "    :return: multiplication of all arguments \n",
    "    \"\"\"\n",
    "    if a == b:\n",
    "        raise ValueError('arg1 must not be equal to arg2')\n",
    "\n",
    "    return a*b*c\n",
    "\n",
    "multiply(1, 1)"
   ]
  }
 ],
 "metadata": {
  "interpreter": {
   "hash": "f55bb882a6bec8e12e28c7b04ad609be803a922fe6e405d345af5d65766d64b4"
  },
  "kernelspec": {
   "display_name": "Python 3.9.7 64-bit ('venv': venv)",
   "name": "python3"
  },
  "language_info": {
   "codemirror_mode": {
    "name": "ipython",
    "version": 3
   },
   "file_extension": ".py",
   "mimetype": "text/x-python",
   "name": "python",
   "nbconvert_exporter": "python",
   "pygments_lexer": "ipython3",
   "version": "3.10.6"
  },
  "orig_nbformat": 4
 },
 "nbformat": 4,
 "nbformat_minor": 2
}
