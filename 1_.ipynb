{
    "cells": [
        {
            "cell_type": "code",
            "execution_count": null,
            "source": [],
            "outputs": [],
            "metadata": {}
        }
    ],
    "metadata": {
        "orig_nbformat": 4,
        "language_info": {
            "name": "python",
            "version": "3.8.11"
        },
        "kernelspec": {
            "name": "python3",
            "display_name": "Python 3.8.11 64-bit ('venv': venv)"
        },
        "interpreter": {
            "hash": "f55bb882a6bec8e12e28c7b04ad609be803a922fe6e405d345af5d65766d64b4"
        }
    },
    "nbformat": 4,
    "nbformat_minor": 2
}