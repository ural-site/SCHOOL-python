{
    "cells": [
        {
            "attachments": {},
            "cell_type": "markdown",
            "metadata": {},
            "source": [
                "# Изучение Python. Основы. Типы данных."
            ]
        },
        {
            "attachments": {},
            "cell_type": "markdown",
            "metadata": {},
            "source": [
                "По одной из классификаций все типы данных в Python делятся на атомарные и ссылочные.\n",
                "\n",
                "Атомарные: \n",
                "числа;\n",
                "строки;\n",
                "\n",
                "\n",
                "Ссылочные: \n",
                "списки;\n",
                "кортежи;\n",
                "словари;\n",
                "функции;\n",
                "классы;\n",
                "\n",
                "Атомарные объекты, при их присваивании, передаются по значению, а ссылочные –  по ссылке."
            ]
        },
        {
            "attachments": {},
            "cell_type": "markdown",
            "metadata": {},
            "source": [
                "None\n",
                "\n",
                "bool - Булев тип\n",
                "\n",
                "int - целые числа\n",
                "\n",
                "float - числа с плавающей точкой\n",
                "\n",
                "complex - комплексные числа\n",
                "\n",
                "str - строки, «сырые» строки, строки в тройных кавычках\n",
                "\n",
                "list - список []\n",
                "\n",
                "tuple - кортеж ()\n",
                "\n",
                "dict - словарь {}\n",
                "\n",
                "set - множество"
            ]
        },
        {
            "attachments": {},
            "cell_type": "markdown",
            "metadata": {},
            "source": [
                "### Не изменяемые и изменяемые типы"
            ]
        },
        {
            "attachments": {},
            "cell_type": "markdown",
            "metadata": {},
            "source": [
                "К *неизменяемым* типам относят **bool, int, float, str, tuple**.\n",
                "\n",
                "К *изменяемым* типам данных относят: **list, set, dict**. \n",
                "\n",
                "Переменные изменяемых типов данных могут изменить своё значение без создания новой переменной с тем же именем. При этом у переменной сохранится тот же идентификатор."
            ]
        },
        {
            "attachments": {},
            "cell_type": "markdown",
            "metadata": {},
            "source": [
                "## Определение типа данных"
            ]
        },
        {
            "attachments": {},
            "cell_type": "markdown",
            "metadata": {},
            "source": [
                "Функции type() и isinstance()\n",
                "В отличие от type(), функция isinstance() возвращает не тип данных аргумента, а булево значение, говорящее о том, принадлежит объект к определенному классу или нет. А ещё isinstance() умеет проверять принадлежность объекта хотя к одному типу из кортежа, переданного в качестве второго аргумента:"
            ]
        },
        {
            "cell_type": "code",
            "execution_count": null,
            "metadata": {},
            "outputs": [],
            "source": [
                "num = 4.44\n",
                "print(isinstance(num, float))\n",
                "\n",
                "name = 'Ash'\n",
                "print(isinstance(name, (float, int, complex)))\n",
                "\n",
                "print(isinstance(name, (float, int, complex, str)))"
            ]
        },
        {
            "attachments": {},
            "cell_type": "markdown",
            "metadata": {},
            "source": [
                "Важным отличием также является то, что isinstance() \"знает\" о наследовании. Функция воспринимает объект производного класса, как объект базового."
            ]
        },
        {
            "attachments": {},
            "cell_type": "markdown",
            "metadata": {},
            "source": [
                "## None"
            ]
        },
        {
            "attachments": {},
            "cell_type": "markdown",
            "metadata": {},
            "source": [
                "None – специальный объект внутри Питона. Он означает пустоту, всегда считается \"Ложью\" и может рассматриваться в качестве аналога NULL для языка C/С++. Помимо этого, None возвращается функциями, как объект по умолчанию."
            ]
        },
        {
            "cell_type": "code",
            "execution_count": null,
            "metadata": {},
            "outputs": [],
            "source": [
                "null = None\n",
                "\n",
                "print(type(null))"
            ]
        },
        {
            "attachments": {},
            "cell_type": "markdown",
            "metadata": {},
            "source": [
                "## Булев тип (bool)"
            ]
        },
        {
            "cell_type": "code",
            "execution_count": 2,
            "metadata": {},
            "outputs": [
                {
                    "name": "stdout",
                    "output_type": "stream",
                    "text": [
                        "<class 'bool'> <class 'bool'> <class 'bool'> <class 'bool'>\n"
                    ]
                }
            ],
            "source": [
                "my_bool1 = True\n",
                "my_bool2 = False\n",
                "\n",
                "print(type(True), type(False), type(my_bool1), type(my_bool2))"
            ]
        },
        {
            "attachments": {},
            "cell_type": "markdown",
            "metadata": {},
            "source": [
                "## Целые числа (int)"
            ]
        },
        {
            "attachments": {},
            "cell_type": "markdown",
            "metadata": {},
            "source": [
                "Python интерпретирует последовательность десятичных цифр без префикса как десятичное число.\n",
                "\n",
                "\n",
                "0b (ноль + «b» в нижнем регистре)\n",
                "0B (ноль + «b» в верхнем регистре)\tДвоичное\t2\n",
                "\n",
                "\n",
                "0o (ноль + «o» в нижнем регистре)\n",
                "0O (ноль + «O» в верхнем регистре)\tВосьмеричное\t8\n",
                "\n",
                "\n",
                "0x (ноль + «x» в нижнем регистре)\n",
                "0X (ноль + «X» в верхнем регистре)\tШестнадцатеричное\t16"
            ]
        },
        {
            "cell_type": "code",
            "execution_count": null,
            "metadata": {},
            "outputs": [],
            "source": [
                "print(10)\n",
                "print(0b10)\n",
                "print(0o10)\n",
                "print(0x10)\n",
                "\n",
                "print(type(10), type(0b10), type(0o10), type(0x10))"
            ]
        },
        {
            "attachments": {},
            "cell_type": "markdown",
            "metadata": {},
            "source": [
                "## Числа с плавающей точкой (float)"
            ]
        },
        {
            "cell_type": "code",
            "execution_count": null,
            "metadata": {},
            "outputs": [],
            "source": [
                "type(4.2)"
            ]
        },
        {
            "attachments": {},
            "cell_type": "markdown",
            "metadata": {},
            "source": [
                "## Строки (str)"
            ]
        },
        {
            "attachments": {},
            "cell_type": "markdown",
            "metadata": {},
            "source": [
                "Строки являются последовательностями. См. отдельный файл.\n",
                "Последовательности - понятие из математики. Там, последовательность – есть нумерованный набор элементов, в котором возможны их повторения, а порядок имеет значение. Определение Питона схоже с математическим: здесь последовательностью зовётся упорядоченная коллекция объектов.\n",
                "\n",
                "\n",
                "Строка — это последовательность односимвольных строк."
            ]
        },
        {
            "cell_type": "code",
            "execution_count": null,
            "metadata": {},
            "outputs": [],
            "source": [
                "my_str1 = 'String 1'\n",
                "my_str2 = \"String 2\"\n",
                "\n",
                "print(my_str1[2:4])\n",
                "print(my_str1[:2])\n",
                "print(my_str1[4:])\n",
                "print(my_str1[::-1]) # Перевернуть строку\n",
                "\n",
                "print('Alexey Valerievich'[::-1])"
            ]
        },
        {
            "attachments": {},
            "cell_type": "markdown",
            "metadata": {},
            "source": [
                "## range object (a type of iterable)"
            ]
        },
        {
            "attachments": {},
            "cell_type": "markdown",
            "metadata": {},
            "source": [
                "Крутая особенность языка Python состоит в наличии в нём встроенной функции range(), которая способна генерировать непрерывную последовательность целых чисел:"
            ]
        },
        {
            "cell_type": "code",
            "execution_count": 13,
            "metadata": {},
            "outputs": [
                {
                    "name": "stdout",
                    "output_type": "stream",
                    "text": [
                        "range(0, 10)\n",
                        "0 1 2 3 4 5 6 7 8 9 "
                    ]
                }
            ],
            "source": [
                "r = range(10)\n",
                "print(r)\n",
                "\n",
                "for i in r:\n",
                "    print(i, end=' ')"
            ]
        },
        {
            "attachments": {},
            "cell_type": "markdown",
            "metadata": {},
            "source": []
        },
        {
            "attachments": {},
            "cell_type": "markdown",
            "metadata": {},
            "source": []
        },
        {
            "attachments": {},
            "cell_type": "markdown",
            "metadata": {},
            "source": []
        },
        {
            "attachments": {},
            "cell_type": "markdown",
            "metadata": {},
            "source": []
        },
        {
            "attachments": {},
            "cell_type": "markdown",
            "metadata": {},
            "source": []
        }
    ],
    "metadata": {
        "interpreter": {
            "hash": "f55bb882a6bec8e12e28c7b04ad609be803a922fe6e405d345af5d65766d64b4"
        },
        "kernelspec": {
            "display_name": "Python 3.9.7 64-bit ('venv': venv)",
            "name": "python3"
        },
        "language_info": {
            "codemirror_mode": {
                "name": "ipython",
                "version": 3
            },
            "file_extension": ".py",
            "mimetype": "text/x-python",
            "name": "python",
            "nbconvert_exporter": "python",
            "pygments_lexer": "ipython3",
            "version": "3.10.6"
        },
        "orig_nbformat": 4
    },
    "nbformat": 4,
    "nbformat_minor": 2
}
