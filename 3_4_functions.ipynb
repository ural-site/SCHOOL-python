{
    "cells": [
        {
            "cell_type": "markdown",
            "source": [
                "# Изучение Python. Основы. Функции."
            ],
            "metadata": {}
        },
        {
            "cell_type": "markdown",
            "source": [
                "## Синтаксис функций"
            ],
            "metadata": {}
        },
        {
            "cell_type": "code",
            "execution_count": null,
            "source": [
                "def say_hello():\n",
                "    print('Hello Alexey Valerevich!')\n",
                "\n",
                "say_hello()\n",
                "say_hello()"
            ],
            "outputs": [],
            "metadata": {}
        },
        {
            "cell_type": "code",
            "execution_count": null,
            "source": [
                "def print_max(a, b):\n",
                "    if a > b:\n",
                "        print(a, '(a) максимально')\n",
                "    elif a == b:\n",
                "        print(a, '(a) равно (b)', b)\n",
                "    else: \n",
                "        print(b, '(b) максималньно')\n",
                "\n",
                "print_max(5, 10)\n",
                "\n",
                "a = 10\n",
                "b = 10\n",
                "\n",
                "print_max(a, b)\n"
            ],
            "outputs": [],
            "metadata": {}
        },
        {
            "cell_type": "markdown",
            "source": [],
            "metadata": {}
        },
        {
            "cell_type": "markdown",
            "source": [
                "## Локальные и глобальные переменные, зона видимости "
            ],
            "metadata": {}
        },
        {
            "cell_type": "markdown",
            "source": [
                "### Локальные переменные, зона видимости "
            ],
            "metadata": {}
        },
        {
            "cell_type": "code",
            "execution_count": null,
            "source": [
                "x = 50 # локальная зона видимости переменной, внутри функции ее не видно \n",
                "\n",
                "def func(x):\n",
                "    print('x =', x)\n",
                "    x = 1   # Локальная зона видимости переменной только внутри функции, вне ее не видно, но видно во вложенных функциях\n",
                "    y = 55  # Локальная зона видимости переменной только внутри функции, вне ее не видно, но видно во вложенных функциях\n",
                "    print('x локально заменили на', x)\n",
                "    print(y)\n",
                "\n",
                "    def new_func():\n",
                "        print('new_func (x)', x)\n",
                "        print('new_func (y)', y)\n",
                "\n",
                "    new_func()\n",
                "\n",
                "func(5)\n",
                "print('x =', x)\n",
                "# print(y) # будет ошибка!\n"
            ],
            "outputs": [],
            "metadata": {}
        },
        {
            "cell_type": "markdown",
            "source": [
                "### Глобальные переменные, зона видимости. \"global\""
            ],
            "metadata": {}
        },
        {
            "cell_type": "code",
            "execution_count": null,
            "source": [
                "x = 50  # локальная зона видимости переменной, внутри функции ее не видно\n",
                "\n",
                "def func():\n",
                "    global x\n",
                "    global y\n",
                "\n",
                "    print('x =', x)\n",
                "    x = 2\n",
                "    y = 55\n",
                "    print('x локально заменили на', x)\n",
                "    print('y =', y)\n",
                "\n",
                "    def new_func():\n",
                "        print('new_func (x)', x)\n",
                "        print('new_func (y)', y)\n",
                "\n",
                "    new_func()\n",
                "\n",
                "func()\n",
                "print('x =', x)\n",
                "print('y =', y)"
            ],
            "outputs": [],
            "metadata": {}
        },
        {
            "cell_type": "markdown",
            "source": [
                "### Не локальньные переменные, зона видимости. \"nonlocal\""
            ],
            "metadata": {}
        },
        {
            "cell_type": "code",
            "execution_count": null,
            "source": [
                "x = None\n",
                "y = None\n",
                "\n",
                "def func():\n",
                "    x = 22\n",
                "    print('x =', x)\n",
                "    y = 55\n",
                "    print('y =', y)\n",
                "\n",
                "    def new_func():\n",
                "        nonlocal x\n",
                "        x = 88\n",
                "        y = 1000\n",
                "        print('new_func (x)', x)\n",
                "        print('new_func (y)', y)\n",
                "\n",
                "    new_func()\n",
                "    print('func (x)', x)\n",
                "    print('func (y)', y)\n",
                "\n",
                "func()\n",
                "print('x =', x)\n",
                "print('y =', y)\n"
            ],
            "outputs": [],
            "metadata": {}
        },
        {
            "cell_type": "markdown",
            "source": [
                "## Значения аргументов по умолчанию "
            ],
            "metadata": {}
        },
        {
            "cell_type": "code",
            "execution_count": null,
            "source": [
                "def say(message, times = 1):\n",
                "    print(message * times)\n",
                "\n",
                "say('Привет')\n",
                "say('Мир!', 5)"
            ],
            "outputs": [],
            "metadata": {}
        },
        {
            "cell_type": "markdown",
            "source": [
                "## Ключевые аргументы "
            ],
            "metadata": {}
        },
        {
            "cell_type": "code",
            "execution_count": null,
            "source": [
                "def func(a, b=5, c=10):\n",
                "    print(f'a равно {a}, b равно {b}, c равно {c}')\n",
                "\n",
                "func(1)\n",
                "func(1, 2, 3)\n",
                "func(1, b=2, c=3)\n",
                "func(1, c=20)"
            ],
            "outputs": [],
            "metadata": {}
        },
        {
            "cell_type": "markdown",
            "source": [
                "## Переменное число параметров "
            ],
            "metadata": {}
        },
        {
            "cell_type": "code",
            "execution_count": null,
            "source": [
                "def total(a=5, *args, **kwargs):\n",
                "    print(a, args, kwargs)\n",
                "\n",
                "    # проход по всем элементам кортежа\n",
                "    for item in args:\n",
                "        print('item_typle', item)\n",
                "\n",
                "    # проход по всем элементам словаря\n",
                "    for first_part, second_part in kwargs.items():\n",
                "        print(first_part, second_part)\n",
                "    \n",
                "total(111, 10, 1, 2, 3, 4, 5, 6, aaa=1, bbb=2, ccc=3, ddd=4)\n"
            ],
            "outputs": [],
            "metadata": {}
        },
        {
            "cell_type": "markdown",
            "source": [
                "## Только ключевые параметры "
            ],
            "metadata": {}
        },
        {
            "cell_type": "code",
            "execution_count": null,
            "source": [
                "def total(a=5, *args, my_key_param):\n",
                "    print(a, args, my_key_param)\n",
                "\n",
                "total(111, 10, 1, 2, 3, 4, 5, 6, my_key_param=1)\n",
                "\n",
                "\n",
                "def total(a=5, *, my_key_param):\n",
                "    print(a, my_key_param)\n",
                "\n",
                "total(111, my_key_param=1)\n",
                "\n",
                "\n",
                "def total(*, my_key_param):\n",
                "    print(my_key_param)\n",
                "\n",
                "\n",
                "total(my_key_param=1)\n"
            ],
            "outputs": [],
            "metadata": {}
        },
        {
            "cell_type": "markdown",
            "source": [
                "## Оператор return "
            ],
            "metadata": {}
        },
        {
            "cell_type": "code",
            "execution_count": 39,
            "source": [
                "def total(*, my_key_param):\n",
                "    print(my_key_param)\n",
                "    # test_int = int(my_key_param)*55\n",
                "    return int(my_key_param)*55\n",
                "\n",
                "print(total(my_key_param=5006))\n"
            ],
            "outputs": [
                {
                    "output_type": "stream",
                    "name": "stdout",
                    "text": [
                        "5006\n",
                        "275330\n"
                    ]
                }
            ],
            "metadata": {}
        },
        {
            "cell_type": "markdown",
            "source": [],
            "metadata": {}
        },
        {
            "cell_type": "markdown",
            "source": [
                "## Пустая функция pass"
            ],
            "metadata": {}
        },
        {
            "cell_type": "code",
            "execution_count": 42,
            "source": [
                "def my_test():\n",
                "    pass\n",
                "\n",
                "def my_test():\n",
                "    ...\n"
            ],
            "outputs": [],
            "metadata": {}
        },
        {
            "cell_type": "markdown",
            "source": [
                "## Строки документации"
            ],
            "metadata": {}
        },
        {
            "cell_type": "code",
            "execution_count": 48,
            "source": [
                "def print_max(a, b):\n",
                "    '''Выводит максимальное из двух чисел.\n",
                "    \n",
                "    :param a: первое число\n",
                "    :type a: int\n",
                "    :param b: второе число\n",
                "    :type b: int\n",
                "    '''\n",
                "\n",
                "    if a > b:\n",
                "        print(a, 'первое число максимально')\n",
                "    elif a == b:\n",
                "        print(a, 'первое число равно второму числу', b)\n",
                "    else:\n",
                "        print(b, 'второе число максималньно')\n",
                "\n",
                "print_max(11, 11)\n"
            ],
            "outputs": [
                {
                    "output_type": "stream",
                    "name": "stdout",
                    "text": [
                        "11 первое число равно второму числу 11\n"
                    ]
                }
            ],
            "metadata": {}
        },
        {
            "cell_type": "markdown",
            "source": [],
            "metadata": {}
        },
        {
            "cell_type": "markdown",
            "source": [],
            "metadata": {}
        }
    ],
    "metadata": {
        "orig_nbformat": 4,
        "language_info": {
            "name": "python",
            "version": "3.9.7",
            "mimetype": "text/x-python",
            "codemirror_mode": {
                "name": "ipython",
                "version": 3
            },
            "pygments_lexer": "ipython3",
            "nbconvert_exporter": "python",
            "file_extension": ".py"
        },
        "kernelspec": {
            "name": "python3",
            "display_name": "Python 3.9.7 64-bit ('venv': venv)"
        },
        "interpreter": {
            "hash": "f55bb882a6bec8e12e28c7b04ad609be803a922fe6e405d345af5d65766d64b4"
        }
    },
    "nbformat": 4,
    "nbformat_minor": 2
}