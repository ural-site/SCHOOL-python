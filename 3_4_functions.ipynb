{
    "cells": [
        {
            "attachments": {},
            "cell_type": "markdown",
            "metadata": {},
            "source": [
                "# Изучение Python. Основы. Функции."
            ]
        },
        {
            "attachments": {},
            "cell_type": "markdown",
            "metadata": {},
            "source": [
                "## Синтаксис функций"
            ]
        },
        {
            "cell_type": "code",
            "execution_count": null,
            "metadata": {},
            "outputs": [],
            "source": [
                "def say_hello():\n",
                "    print('Hello Alexey Valerevich!')\n",
                "\n",
                "say_hello()\n",
                "say_hello()"
            ]
        },
        {
            "cell_type": "code",
            "execution_count": null,
            "metadata": {},
            "outputs": [],
            "source": [
                "def print_max(a, b):\n",
                "    if a > b:\n",
                "        print(a, '(a) максимально')\n",
                "    elif a == b:\n",
                "        print(a, '(a) равно (b)', b)\n",
                "    else: \n",
                "        print(b, '(b) максималньно')\n",
                "\n",
                "print_max(5, 10)\n",
                "\n",
                "a = 10\n",
                "b = 10\n",
                "\n",
                "print_max(a, b)\n"
            ]
        },
        {
            "cell_type": "code",
            "execution_count": null,
            "metadata": {},
            "outputs": [],
            "source": [
                "def standart_arg(arg):\n",
                "    print(arg)\n",
                "\n",
                "standart_arg(1)\n",
                "standart_arg(arg=1)   "
            ]
        },
        {
            "attachments": {},
            "cell_type": "markdown",
            "metadata": {},
            "source": [
                "### Аннотация типов"
            ]
        },
        {
            "cell_type": "code",
            "execution_count": null,
            "metadata": {},
            "outputs": [],
            "source": [
                "def greeting(name: str) -> str:\n",
                "    return 'Hello ' + name\n",
                "\n",
                "\n",
                "def func(a: int, b: int) -> int:\n",
                "    return a * b\n",
                "\n",
                "print(func(22, 555))\n",
                "\n",
                "\n",
                "def total(a: int = 5, *args: int, **kwargs: int) -> None:\n",
                "    print(a, args, kwargs)\n",
                "    \n",
                "# print(total(1, 2, 3, 4, a = 1, b = 2, c = 3))"
            ]
        },
        {
            "cell_type": "code",
            "execution_count": null,
            "metadata": {},
            "outputs": [],
            "source": [
                "Vector = list[float]\n",
                "\n",
                "def scale(scalar: float, vector: Vector) -> Vector:\n",
                "    return [scalar * num for num in vector]\n",
                "\n",
                "# passes type checking; a list of floats qualifies as a Vector.\n",
                "new_vector = scale(2.0, [1.0, -4.2, 5.4])"
            ]
        },
        {
            "cell_type": "code",
            "execution_count": null,
            "metadata": {},
            "outputs": [],
            "source": [
                "from typing import Optional\n",
                "\n",
                "\n",
                "\n",
                "def foo(first: int, second: Optional[int] = None) -> None:\n",
                "    print(first, second)\n",
                "    \n",
                "foo(1)\n",
                "foo(3, 4)"
            ]
        },
        {
            "cell_type": "code",
            "execution_count": null,
            "metadata": {},
            "outputs": [],
            "source": [
                "from typing import TypedDict\n",
                "from typing_extensions import Unpack\n",
                "\n",
                "\n",
                "class RequestParams(TypedDict):\n",
                "    url: str\n",
                "    allow_redirects: bool\n",
                "\n",
                "\n",
                "def request(**kwargs: Unpack[RequestParams]) -> None:\n",
                "    ..."
            ]
        },
        {
            "attachments": {},
            "cell_type": "markdown",
            "metadata": {},
            "source": [
                "Вы также можете сделать поля необязательными, добавив total=Falseв TypedDict:"
            ]
        },
        {
            "cell_type": "code",
            "execution_count": null,
            "metadata": {},
            "outputs": [],
            "source": [
                "from typing import TypedDict\n",
                "from typing_extensions import Unpack\n",
                "\n",
                "\n",
                "class RequestParams(TypedDict, total=False):\n",
                "    url: str\n",
                "    allow_redirects: bool\n",
                "\n",
                "\n",
                "def request(**kwargs: Unpack[RequestParams]) -> None:\n",
                "    ..."
            ]
        },
        {
            "attachments": {},
            "cell_type": "markdown",
            "metadata": {},
            "source": [
                "Кроме того, вы можете использовать аннотации Required и NotRequired для управления тем, требуется ли аргумент ключевого слова или нет:"
            ]
        },
        {
            "cell_type": "code",
            "execution_count": null,
            "metadata": {},
            "outputs": [],
            "source": [
                "from typing import TypedDict\n",
                "from typing_extensions import Unpack, NotRequired\n",
                "\n",
                "\n",
                "class RequestParams(TypedDict):\n",
                "    url: str\n",
                "    allow_redirects: NotRequired[bool]\n",
                "\n",
                "def request(**kwargs: Unpack[RequestParams]) -> None:\n",
                "    ...\n",
                "\n",
                "# OK\n",
                "request(url=\"https://example.com\", allow_redirects=True)"
            ]
        },
        {
            "attachments": {},
            "cell_type": "markdown",
            "metadata": {},
            "source": [
                "## Локальные и глобальные переменные, зона видимости "
            ]
        },
        {
            "attachments": {},
            "cell_type": "markdown",
            "metadata": {},
            "source": [
                "### Локальные переменные, зона видимости "
            ]
        },
        {
            "cell_type": "code",
            "execution_count": null,
            "metadata": {},
            "outputs": [],
            "source": [
                "x = 50 # локальная зона видимости переменной, внутри функции ее не видно \n",
                "\n",
                "def func(x):\n",
                "    print('x =', x)\n",
                "    x = 1   # Локальная зона видимости переменной только внутри функции, вне ее не видно, но видно во вложенных функциях\n",
                "    y = 55  # Локальная зона видимости переменной только внутри функции, вне ее не видно, но видно во вложенных функциях\n",
                "    print('x локально заменили на', x)\n",
                "    print(y)\n",
                "\n",
                "    def new_func():\n",
                "        print('new_func (x)', x)\n",
                "        print('new_func (y)', y)\n",
                "\n",
                "    new_func()\n",
                "\n",
                "func(5)\n",
                "print('x =', x)\n",
                "# print(y) # будет ошибка!\n"
            ]
        },
        {
            "attachments": {},
            "cell_type": "markdown",
            "metadata": {},
            "source": [
                "### Глобальные переменные, зона видимости. \"global\""
            ]
        },
        {
            "cell_type": "code",
            "execution_count": null,
            "metadata": {},
            "outputs": [],
            "source": [
                "x = 50  # локальная зона видимости переменной, внутри функции ее не видно\n",
                "\n",
                "def func():\n",
                "    global x\n",
                "    global y\n",
                "\n",
                "    print('x =', x)\n",
                "    x = 2\n",
                "    y = 55\n",
                "    print('x локально заменили на', x)\n",
                "    print('y =', y)\n",
                "\n",
                "    def new_func():\n",
                "        print('new_func (x)', x)\n",
                "        print('new_func (y)', y)\n",
                "\n",
                "    new_func()\n",
                "\n",
                "func()\n",
                "print('x =', x)\n",
                "print('y =', y)"
            ]
        },
        {
            "attachments": {},
            "cell_type": "markdown",
            "metadata": {},
            "source": [
                "### Не локальньные переменные, зона видимости \"nonlocal\""
            ]
        },
        {
            "cell_type": "code",
            "execution_count": null,
            "metadata": {},
            "outputs": [],
            "source": [
                "x = None\n",
                "y = None\n",
                "\n",
                "def func():\n",
                "    x = 22\n",
                "    print('x =', x)\n",
                "    y = 55\n",
                "    print('y =', y)\n",
                "\n",
                "    def new_func():\n",
                "        nonlocal x\n",
                "        x = 88\n",
                "        y = 1000\n",
                "        print('new_func (x)', x)\n",
                "        print('new_func (y)', y)\n",
                "\n",
                "    new_func()\n",
                "    print('func (x)', x)\n",
                "    print('func (y)', y)\n",
                "\n",
                "func()\n",
                "print('x =', x)\n",
                "print('y =', y)\n"
            ]
        },
        {
            "attachments": {},
            "cell_type": "markdown",
            "metadata": {},
            "source": [
                "## Аргументы функций\n",
                "### Значения аргументов по умолчанию "
            ]
        },
        {
            "cell_type": "code",
            "execution_count": null,
            "metadata": {},
            "outputs": [],
            "source": [
                "def say(message, times = 1):\n",
                "    print(message * times)\n",
                "\n",
                "say('Привет')\n",
                "say('Мир!', 5)"
            ]
        },
        {
            "attachments": {},
            "cell_type": "markdown",
            "metadata": {},
            "source": [
                "### Стандартные, позиционные и ключевые аргументы"
            ]
        },
        {
            "attachments": {},
            "cell_type": "markdown",
            "metadata": {},
            "source": [
                "Стандартные аргументы передаются как по позиции так и по ключевому слову, пример ниже"
            ]
        },
        {
            "cell_type": "code",
            "execution_count": null,
            "metadata": {},
            "outputs": [],
            "source": [
                "def standart_arg(arg):\n",
                "    print(arg)\n",
                "\n",
                "standart_arg(1)\n",
                "standart_arg(arg=1)"
            ]
        },
        {
            "attachments": {},
            "cell_type": "markdown",
            "metadata": {},
            "source": [
                "Для того, чтобы явно ограничить ввод только позиционных или ключевых аргументов используются разделители / и *, пример:"
            ]
        },
        {
            "cell_type": "code",
            "execution_count": null,
            "metadata": {},
            "outputs": [],
            "source": [
                "def pos_only_arg(arg, /):\n",
                "    print(arg)\n",
                "\n",
                "pos_only_arg(1)\n",
                "\n",
                "\n",
                "def kwd_only_arg(*, arg):\n",
                "    print(arg)\n",
                "\n",
                "kwd_only_arg(arg=1)\n",
                "\n",
                "\n",
                "def combined_example(pos_only, /, standart, *, kwd_only):\n",
                "    print(pos_only, standart, kwd_only)\n",
                "\n",
                "combined_example(1, 2, kwd_only=3)\n",
                "combined_example(1, standart=2, kwd_only=3)"
            ]
        },
        {
            "attachments": {},
            "cell_type": "markdown",
            "metadata": {},
            "source": [
                "Ключевые аргументы "
            ]
        },
        {
            "cell_type": "code",
            "execution_count": null,
            "metadata": {},
            "outputs": [],
            "source": [
                "def func(a, b = 5, c = 10):\n",
                "    print(f'a равно {a}, b равно {b}, c равно {c}')\n",
                "\n",
                "func(1)\n",
                "func(1, 2, 3)\n",
                "func(1, b = 2, c = 3)\n",
                "func(1, c = 20)"
            ]
        },
        {
            "attachments": {},
            "cell_type": "markdown",
            "metadata": {},
            "source": [
                "Только ключевые параметры "
            ]
        },
        {
            "cell_type": "code",
            "execution_count": null,
            "metadata": {},
            "outputs": [],
            "source": [
                "def total_one(a = 5, *args, my_key_param):\n",
                "    print(a, args, my_key_param)\n",
                "\n",
                "total_one(111, 10, 1, 2, 3, 4, 5, 6, my_key_param = 1)\n",
                "\n",
                "\n",
                "def total_two(a = 5, *, my_key_param):\n",
                "    print(a, my_key_param)\n",
                "\n",
                "total_two(111, my_key_param = 1)\n",
                "\n",
                "\n",
                "def total_three(*, my_key_param):\n",
                "    print(my_key_param)\n",
                "\n",
                "total_three(my_key_param = 1)"
            ]
        },
        {
            "attachments": {},
            "cell_type": "markdown",
            "metadata": {},
            "source": [
                "### Переменное число аргументов "
            ]
        },
        {
            "attachments": {},
            "cell_type": "markdown",
            "metadata": {},
            "source": [
                "В данной функции *args - это передаются позиционные аргументы в свободном количестве, при этом в функцию они приходят в виде кортежа с имененм args\n",
                "А **kwargs - это передаются ключевые аргументы в свободном количестве и приходят в функцию в виде словаря с имененм kwargs"
            ]
        },
        {
            "cell_type": "code",
            "execution_count": null,
            "metadata": {},
            "outputs": [],
            "source": [
                "def total(a = 5, *args, **kwargs):\n",
                "    print(a, args, kwargs)\n",
                "\n",
                "    # проход по всем позиционным аргументам (элементам кортежа)\n",
                "    for item in args:\n",
                "        print('item_typle', item)\n",
                "\n",
                "    # проход по всем элементам словаря\n",
                "    for first_part, second_part in kwargs.items():\n",
                "        print(first_part, second_part)\n",
                "    \n",
                "total(111, 10, 1, 2, 3, 4, 5, 6, aaa = 1, bbb = 2, ccc = 3, ddd = 4)\n"
            ]
        },
        {
            "attachments": {},
            "cell_type": "markdown",
            "metadata": {},
            "source": [
                "## Оператор return "
            ]
        },
        {
            "cell_type": "code",
            "execution_count": null,
            "metadata": {},
            "outputs": [],
            "source": [
                "def total(*, my_key_param):\n",
                "    print(my_key_param)\n",
                "    # test_int = int(my_key_param)*55\n",
                "    return int(my_key_param)*55\n",
                "\n",
                "print(total(my_key_param = 5006))"
            ]
        },
        {
            "attachments": {},
            "cell_type": "markdown",
            "metadata": {},
            "source": []
        },
        {
            "attachments": {},
            "cell_type": "markdown",
            "metadata": {},
            "source": [
                "## Пустая функция pass"
            ]
        },
        {
            "cell_type": "code",
            "execution_count": null,
            "metadata": {},
            "outputs": [],
            "source": [
                "def my_test_one():\n",
                "    pass\n",
                "\n",
                "def my_test_two():\n",
                "    ...\n"
            ]
        },
        {
            "attachments": {},
            "cell_type": "markdown",
            "metadata": {},
            "source": [
                "## Лямбда-функции"
            ]
        },
        {
            "attachments": {},
            "cell_type": "markdown",
            "metadata": {},
            "source": [
                "С помощью ключевого слова можно создавать небольшие анонимные функции lambda. Лямбда-функции можно использовать везде, где требуются функциональные объекты. Они синтаксически ограничены одним выражением. Семантически они просто синтаксический сахар для нормального определения функции. Как и определения вложенных функций, лямбда-функции могут ссылаться на переменные из содержащей их области: lambda a, b: a + b"
            ]
        },
        {
            "cell_type": "code",
            "execution_count": null,
            "metadata": {},
            "outputs": [],
            "source": [
                "def make_incrementor(n):\n",
                "    return lambda x: x + n\n",
                "\n",
                "myfunc = make_incrementor(5)\n",
                "\n",
                "print(myfunc(1))\n",
                "print(myfunc(2))\n",
                "print(myfunc(3))\n",
                "print(myfunc(4))\n",
                "print(myfunc(5))"
            ]
        },
        {
            "attachments": {},
            "cell_type": "markdown",
            "metadata": {},
            "source": [
                "## Строки документации"
            ]
        },
        {
            "cell_type": "code",
            "execution_count": null,
            "metadata": {},
            "outputs": [],
            "source": [
                "def print_max(a, b):\n",
                "    '''Выводит максимальное из двух чисел.\n",
                "    \n",
                "    :param a: первое число\n",
                "    :type a: int\n",
                "    :param b: второе число\n",
                "    :type b: int\n",
                "    '''\n",
                "\n",
                "    if a > b:\n",
                "        print(a, 'первое число максимально')\n",
                "    elif a == b:\n",
                "        print(a, 'первое число равно второму числу', b)\n",
                "    else:\n",
                "        print(b, 'второе число максималньно')\n",
                "\n",
                "print_max(11, 11)\n"
            ]
        }
    ],
    "metadata": {
        "interpreter": {
            "hash": "f55bb882a6bec8e12e28c7b04ad609be803a922fe6e405d345af5d65766d64b4"
        },
        "kernelspec": {
            "display_name": "Python 3.9.7 64-bit ('venv': venv)",
            "name": "python3"
        },
        "language_info": {
            "codemirror_mode": {
                "name": "ipython",
                "version": 3
            },
            "file_extension": ".py",
            "mimetype": "text/x-python",
            "name": "python",
            "nbconvert_exporter": "python",
            "pygments_lexer": "ipython3",
            "version": "3.10.6"
        },
        "orig_nbformat": 4
    },
    "nbformat": 4,
    "nbformat_minor": 2
}
